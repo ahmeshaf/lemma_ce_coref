{
 "cells": [
  {
   "cell_type": "code",
   "execution_count": 6,
   "id": "42cfed77",
   "metadata": {},
   "outputs": [],
   "source": [
    "from helper import *\n",
    "import pickle\n",
    "from heuristic import lh_split"
   ]
  },
  {
   "cell_type": "code",
   "execution_count": 7,
   "id": "000bcf00",
   "metadata": {},
   "outputs": [],
   "source": [
    "dataset = 'ecb'"
   ]
  },
  {
   "cell_type": "code",
   "execution_count": 8,
   "id": "37c65756",
   "metadata": {},
   "outputs": [],
   "source": [
    "dataset_folder = f'./datasets/{dataset}/'"
   ]
  },
  {
   "cell_type": "code",
   "execution_count": 9,
   "id": "0c7248c9",
   "metadata": {},
   "outputs": [],
   "source": [
    "mention_map = pickle.load(open(dataset_folder + \"/mention_map.pkl\", 'rb'))\n",
    "evt_mention_map = {m_id: m for m_id, m in mention_map.items() if m['men_type'] == 'evt'}"
   ]
  },
  {
   "cell_type": "code",
   "execution_count": 10,
   "id": "034b060f",
   "metadata": {},
   "outputs": [
    {
     "name": "stderr",
     "output_type": "stream",
     "text": [
      "Generating Similarities: 100%|███████████████████████████████████████████████████████████████████████████████████████████████████████████████████████████████████████████████████████████████████████████████████████████████████████████████████████████████████████| 93878/93878 [00:00<00:00, 358460.30it/s]\n"
     ]
    },
    {
     "name": "stdout",
     "output_type": "stream",
     "text": [
      "true positives: 5391\n",
      "false positives: 2397\n",
      "true negatives: 84883\n",
      "false negatives: 1207\n",
      "\n",
      "After transitive closure\n",
      "true positives: 6562\n",
      "false positives: 8833\n",
      "true negatives: 78447\n",
      "false negatives: 36\n"
     ]
    }
   ],
   "source": [
    "# (tr_tps, tr_fps, tr_tns, tr_fns), mps_t = lh_oracle_split(dataset, 'train', 0.05)\n",
    "(te_tps, te_fps, te_tns, te_fns), mps_t = lh_split('lh_oracle', dataset, 'test', 0.05)"
   ]
  },
  {
   "cell_type": "code",
   "execution_count": 11,
   "id": "4fa9d68c",
   "metadata": {},
   "outputs": [
    {
     "name": "stderr",
     "output_type": "stream",
     "text": [
      "Generating Similarities: 100%|███████████████████████████████████████████████████████████████████████████████████████████████████████████████████████████████████████████████████████████████████████████████████████████████████████████████████████████████████████| 93878/93878 [00:00<00:00, 364490.82it/s]\n"
     ]
    },
    {
     "name": "stdout",
     "output_type": "stream",
     "text": [
      "true positives: 3517\n",
      "false positives: 2058\n",
      "true negatives: 85222\n",
      "false negatives: 3081\n",
      "\n",
      "After transitive closure\n",
      "true positives: 4326\n",
      "false positives: 4676\n",
      "true negatives: 82604\n",
      "false negatives: 2272\n"
     ]
    }
   ],
   "source": [
    "(te_tps_lh, te_fps_lh, _, _), mps_t = lh_split('lh', dataset, 'test', 0.05)"
   ]
  },
  {
   "cell_type": "code",
   "execution_count": 12,
   "id": "80f73514",
   "metadata": {},
   "outputs": [],
   "source": [
    "# lh_oracle_pairs_train  = tr_tps + tr_fps\n",
    "# all_pairs_train = tr_tps + tr_fps + tr_tns + tr_fns\n",
    "lh_pairs_test = te_tps_lh + te_fps_lh\n",
    "lh_oracle_pairs_test = te_tps + te_fps\n",
    "all_pairs_test = te_tps + te_fps + te_tns + te_fns"
   ]
  },
  {
   "cell_type": "code",
   "execution_count": 13,
   "id": "e9b0dcf3",
   "metadata": {},
   "outputs": [],
   "source": [
    "m_id2topic = {m_id: evt_mention_map[m_id]['predicted_topic'] if evt_mention_map[m_id]['predicted_topic'] else evt_mention_map[m_id]['topic'] for m_id in evt_mention_map if evt_mention_map[m_id]['split'] == 'test'}"
   ]
  },
  {
   "cell_type": "code",
   "execution_count": 14,
   "id": "dce3b480",
   "metadata": {},
   "outputs": [],
   "source": [
    "from collections import Counter, defaultdict\n",
    "\n",
    "\n",
    "topic_freqs = Counter(m_id2topic.values())"
   ]
  },
  {
   "cell_type": "code",
   "execution_count": 15,
   "id": "8a4d9436",
   "metadata": {},
   "outputs": [
    {
     "data": {
      "text/plain": [
       "[('predicted_1', 168),\n",
       " ('predicted_2', 146),\n",
       " ('predicted_8', 145),\n",
       " ('predicted_9', 137),\n",
       " ('predicted_14', 132),\n",
       " ('predicted_11', 121),\n",
       " ('predicted_0', 114),\n",
       " ('predicted_18', 89),\n",
       " ('predicted_5', 86),\n",
       " ('predicted_10', 85),\n",
       " ('predicted_15', 78),\n",
       " ('predicted_16', 69),\n",
       " ('predicted_6', 68),\n",
       " ('predicted_7', 60),\n",
       " ('predicted_17', 56),\n",
       " ('predicted_19', 54),\n",
       " ('predicted_3', 50),\n",
       " ('predicted_4', 44),\n",
       " ('predicted_13', 39),\n",
       " ('predicted_12', 39)]"
      ]
     },
     "execution_count": 15,
     "metadata": {},
     "output_type": "execute_result"
    }
   ],
   "source": [
    "topic_freqs.most_common()"
   ]
  },
  {
   "cell_type": "code",
   "execution_count": 16,
   "id": "751c4051",
   "metadata": {},
   "outputs": [
    {
     "data": {
      "text/plain": [
       "[('predicted_12', 39),\n",
       " ('predicted_13', 39),\n",
       " ('predicted_4', 44),\n",
       " ('predicted_3', 50),\n",
       " ('predicted_19', 54),\n",
       " ('predicted_17', 56),\n",
       " ('predicted_7', 60),\n",
       " ('predicted_6', 68),\n",
       " ('predicted_16', 69),\n",
       " ('predicted_15', 78),\n",
       " ('predicted_10', 85),\n",
       " ('predicted_5', 86),\n",
       " ('predicted_18', 89),\n",
       " ('predicted_0', 114),\n",
       " ('predicted_11', 121),\n",
       " ('predicted_14', 132),\n",
       " ('predicted_9', 137),\n",
       " ('predicted_8', 145),\n",
       " ('predicted_2', 146),\n",
       " ('predicted_1', 168)]"
      ]
     },
     "execution_count": 16,
     "metadata": {},
     "output_type": "execute_result"
    }
   ],
   "source": [
    "topic_freqs.most_common()[::-1]"
   ]
  },
  {
   "cell_type": "code",
   "execution_count": 17,
   "id": "c3ba72df",
   "metadata": {},
   "outputs": [],
   "source": [
    "topic2mention_pairs_all_test = defaultdict(list)\n",
    "for m1, m2 in all_pairs_test:\n",
    "    topic = evt_mention_map[m1]['predicted_topic']\n",
    "    topic2mention_pairs_all_test[topic].append((m1,m2))\n",
    "\n",
    "topic2mention_pairs_lh_oracle_test = defaultdict(list)\n",
    "for m1, m2 in lh_oracle_pairs_test:\n",
    "    topic = evt_mention_map[m1]['predicted_topic']\n",
    "    topic2mention_pairs_lh_oracle_test[topic].append((m1,m2))\n",
    "\n",
    "topic2mention_pairs_lh_test = defaultdict(list)\n",
    "for m1, m2 in lh_pairs_test:\n",
    "    topic = evt_mention_map[m1]['predicted_topic']\n",
    "    topic2mention_pairs_lh_test[topic].append((m1,m2))"
   ]
  },
  {
   "cell_type": "code",
   "execution_count": 18,
   "id": "95ce479b",
   "metadata": {},
   "outputs": [],
   "source": [
    "m_counts = [0]\n",
    "all_pairs_counts = [0]\n",
    "lh_oracle_pairs_counts = [0]\n",
    "lh_pairs_counts = [0]\n",
    "\n",
    "for topic, m_freq in  topic_freqs.most_common()[::-1]:\n",
    "    m_counts.append(m_counts[-1] + m_freq)\n",
    "    all_pairs_counts.append(all_pairs_counts[-1] + len(topic2mention_pairs_all_test[topic]))\n",
    "    lh_pairs_counts.append(lh_pairs_counts[-1] + len(topic2mention_pairs_lh_test[topic]))\n",
    "    lh_oracle_pairs_counts.append(lh_oracle_pairs_counts[-1] + len(topic2mention_pairs_lh_oracle_test[topic]))"
   ]
  },
  {
   "cell_type": "code",
   "execution_count": 19,
   "id": "e41e28c5",
   "metadata": {},
   "outputs": [],
   "source": [
    "import matplotlib as mpl\n",
    "mpl.use('pgf')\n",
    "import matplotlib.pyplot as plt\n",
    "import numpy as np\n",
    "plt.style.use('default')\n",
    "plt.rcParams[\"figure.figsize\"] = (12,10)\n",
    "plt.rcParams.update({'font.size': 12})\n",
    "plt.rcParams[\"pgf.texsystem\"] = \"pdflatex\"\n",
    "plt.rcParams['text.usetex'] = True\n",
    "plt.rcParams[\"font.family\"] = \"Times New Roman\"\n",
    "plt.rcParams['grid.color'] = (0.5, 0.5, 0.5, 0.3)\n",
    "# plt.style.use('default')\n",
    "# import matplotlib as mpl\n",
    "# mpl.use('pgf')"
   ]
  },
  {
   "cell_type": "code",
   "execution_count": 22,
   "id": "99c68f7e",
   "metadata": {},
   "outputs": [
    {
     "name": "stderr",
     "output_type": "stream",
     "text": [
      "Ignoring unknown font: Times New Roman\n",
      "Ignoring unknown font: Times New Roman\n",
      "Ignoring unknown font: Times New Roman\n",
      "Ignoring unknown font: Times New Roman\n",
      "Ignoring unknown font: Times New Roman\n",
      "Ignoring unknown font: Times New Roman\n",
      "Ignoring unknown font: Times New Roman\n",
      "Ignoring unknown font: Times New Roman\n",
      "Ignoring unknown font: Times New Roman\n",
      "Ignoring unknown font: Times New Roman\n",
      "Ignoring unknown font: Times New Roman\n",
      "Ignoring unknown font: Times New Roman\n",
      "Ignoring unknown font: Times New Roman\n",
      "Ignoring unknown font: Times New Roman\n",
      "Ignoring unknown font: Times New Roman\n",
      "Ignoring unknown font: Times New Roman\n",
      "Ignoring unknown font: Times New Roman\n",
      "Ignoring unknown font: Times New Roman\n",
      "Ignoring unknown font: Times New Roman\n",
      "Ignoring unknown font: Times New Roman\n",
      "Ignoring unknown font: Times New Roman\n",
      "Ignoring unknown font: Times New Roman\n",
      "Ignoring unknown font: Times New Roman\n",
      "Ignoring unknown font: Times New Roman\n",
      "Ignoring unknown font: Times New Roman\n",
      "Ignoring unknown font: Times New Roman\n",
      "Ignoring unknown font: Times New Roman\n",
      "Ignoring unknown font: Times New Roman\n",
      "Ignoring unknown font: Times New Roman\n",
      "Ignoring unknown font: Times New Roman\n",
      "Ignoring unknown font: Times New Roman\n",
      "Ignoring unknown font: Times New Roman\n",
      "Ignoring unknown font: Times New Roman\n",
      "Ignoring unknown font: Times New Roman\n",
      "Ignoring unknown font: Times New Roman\n",
      "Ignoring unknown font: Times New Roman\n",
      "Ignoring unknown font: Times New Roman\n",
      "Ignoring unknown font: Times New Roman\n",
      "Ignoring unknown font: Times New Roman\n",
      "Ignoring unknown font: Times New Roman\n",
      "Ignoring unknown font: Times New Roman\n",
      "Ignoring unknown font: Times New Roman\n",
      "Ignoring unknown font: Times New Roman\n",
      "Ignoring unknown font: Times New Roman\n",
      "Ignoring unknown font: Times New Roman\n",
      "Ignoring unknown font: Times New Roman\n",
      "Ignoring unknown font: Times New Roman\n",
      "Ignoring unknown font: Times New Roman\n",
      "Ignoring unknown font: Times New Roman\n",
      "Ignoring unknown font: Times New Roman\n",
      "Ignoring unknown font: Times New Roman\n",
      "Ignoring unknown font: Times New Roman\n",
      "Ignoring unknown font: Times New Roman\n",
      "Ignoring unknown font: Times New Roman\n",
      "Ignoring unknown font: Times New Roman\n",
      "Ignoring unknown font: Times New Roman\n",
      "Ignoring unknown font: Times New Roman\n",
      "Ignoring unknown font: Times New Roman\n",
      "Ignoring unknown font: Times New Roman\n",
      "Ignoring unknown font: Times New Roman\n",
      "Ignoring unknown font: Times New Roman\n",
      "Ignoring unknown font: Times New Roman\n",
      "Ignoring unknown font: Times New Roman\n",
      "Ignoring unknown font: Times New Roman\n",
      "Ignoring unknown font: Times New Roman\n",
      "Ignoring unknown font: Times New Roman\n",
      "Ignoring unknown font: Times New Roman\n",
      "Ignoring unknown font: Times New Roman\n",
      "Ignoring unknown font: Times New Roman\n",
      "Ignoring unknown font: Times New Roman\n",
      "Ignoring unknown font: Times New Roman\n",
      "Ignoring unknown font: Times New Roman\n",
      "Ignoring unknown font: Times New Roman\n",
      "Ignoring unknown font: Times New Roman\n",
      "Ignoring unknown font: Times New Roman\n",
      "Ignoring unknown font: Times New Roman\n",
      "Ignoring unknown font: Times New Roman\n",
      "Ignoring unknown font: Times New Roman\n",
      "Ignoring unknown font: Times New Roman\n",
      "Ignoring unknown font: Times New Roman\n",
      "Ignoring unknown font: Times New Roman\n",
      "Ignoring unknown font: Times New Roman\n",
      "Ignoring unknown font: Times New Roman\n",
      "Ignoring unknown font: Times New Roman\n",
      "Ignoring unknown font: Times New Roman\n",
      "Ignoring unknown font: Times New Roman\n",
      "Ignoring unknown font: Times New Roman\n",
      "Ignoring unknown font: Times New Roman\n",
      "Ignoring unknown font: Times New Roman\n",
      "Ignoring unknown font: Times New Roman\n",
      "Ignoring unknown font: Times New Roman\n",
      "Ignoring unknown font: Times New Roman\n",
      "Ignoring unknown font: Times New Roman\n",
      "Ignoring unknown font: Times New Roman\n",
      "Ignoring unknown font: Times New Roman\n",
      "Ignoring unknown font: Times New Roman\n",
      "Ignoring unknown font: Times New Roman\n",
      "Ignoring unknown font: Times New Roman\n",
      "Ignoring unknown font: Times New Roman\n",
      "Ignoring unknown font: Times New Roman\n",
      "Ignoring unknown font: Times New Roman\n",
      "Ignoring unknown font: Times New Roman\n",
      "Ignoring unknown font: Times New Roman\n",
      "Ignoring unknown font: Times New Roman\n",
      "Ignoring unknown font: Times New Roman\n",
      "Ignoring unknown font: Times New Roman\n",
      "Ignoring unknown font: Times New Roman\n",
      "Ignoring unknown font: Times New Roman\n",
      "Ignoring unknown font: Times New Roman\n",
      "Ignoring unknown font: Times New Roman\n",
      "Ignoring unknown font: Times New Roman\n",
      "Ignoring unknown font: Times New Roman\n",
      "Ignoring unknown font: Times New Roman\n",
      "Ignoring unknown font: Times New Roman\n",
      "Ignoring unknown font: Times New Roman\n",
      "Ignoring unknown font: Times New Roman\n",
      "Ignoring unknown font: Times New Roman\n",
      "Ignoring unknown font: Times New Roman\n",
      "Ignoring unknown font: Times New Roman\n",
      "Ignoring unknown font: Times New Roman\n",
      "Ignoring unknown font: Times New Roman\n",
      "Ignoring unknown font: Times New Roman\n",
      "Ignoring unknown font: Times New Roman\n",
      "Ignoring unknown font: Times New Roman\n",
      "Ignoring unknown font: Times New Roman\n",
      "Ignoring unknown font: Times New Roman\n",
      "Ignoring unknown font: Times New Roman\n",
      "Ignoring unknown font: Times New Roman\n",
      "Ignoring unknown font: Times New Roman\n",
      "Ignoring unknown font: Times New Roman\n",
      "Ignoring unknown font: Times New Roman\n",
      "Ignoring unknown font: Times New Roman\n",
      "Ignoring unknown font: Times New Roman\n",
      "Ignoring unknown font: Times New Roman\n",
      "Ignoring unknown font: Times New Roman\n"
     ]
    }
   ],
   "source": [
    "plt.rcParams[\"figure.figsize\"] = (4.5,4)\n",
    "fig, ax = plt.subplots(1, 1)\n",
    "\n",
    "\n",
    "ax.plot(m_counts[1:], all_pairs_counts[1:], label=r'Previous Methods', color='brown')\n",
    "ax.plot(m_counts[1:], 5*np.array(m_counts[1:]), label=r'\\cite{held-etal-2021-focus}', color='green')\n",
    "\n",
    "ax.plot(m_counts[1:], lh_oracle_pairs_counts[1:], \n",
    "         label=r'{\\fontfamily{qcr}\\selectfont LH}$_{\\mathtt{Oracle}}$+' + r'{\\fontfamily{qcr}\\selectfont D}',\n",
    "       color='blue')\n",
    "ax.plot(m_counts[1:], lh_pairs_counts[1:], \n",
    "         label=r'{\\fontfamily{qcr}\\selectfont LH} +' + r'{\\fontfamily{qcr}\\selectfont D}',\n",
    "       color='cyan')\n",
    "\n",
    "ax.set_yticks([i*10000 for i in range(0, 10)])\n",
    "\n",
    "ax.set_yticklabels([str(i*10) if i%2==0 else None for i in range(0, 10)])\n",
    "\n",
    "plt.ylabel(r'Mention Pairs $\\times 10^{3}$')\n",
    "plt.xlabel('Mentions')\n",
    "plt.grid()\n",
    "plt.legend()\n",
    "fig.savefig('test-mention-pairs.pgf', bbox_inches='tight', dpi=75)"
   ]
  },
  {
   "cell_type": "code",
   "execution_count": null,
   "id": "58e4e9c8",
   "metadata": {},
   "outputs": [],
   "source": []
  },
  {
   "cell_type": "code",
   "execution_count": null,
   "id": "9b9bd6e6",
   "metadata": {},
   "outputs": [],
   "source": []
  },
  {
   "cell_type": "code",
   "execution_count": 83,
   "id": "9b6063f2",
   "metadata": {},
   "outputs": [
    {
     "data": {
      "text/plain": [
       "<matplotlib.legend.Legend at 0x7f21b27dc070>"
      ]
     },
     "execution_count": 83,
     "metadata": {},
     "output_type": "execute_result"
    },
    {
     "data": {
      "image/png": "[encoded data removed]",
      "text/plain": [
       "<Figure size 1200x1000 with 1 Axes>"
      ]
     },
     "metadata": {},
     "output_type": "display_data"
    }
   ],
   "source": [
    "def get_texttt(text):\n",
    "    return r'{\\fontfamily{qcr}\\selectfont %s}'%text\n",
    "\n",
    "plt.plot(m_counts[1:], all_pairs_counts[1:], label=r'Previous Methods')\n",
    "plt.plot(m_counts[1:], lh_pairs_counts[1:], \n",
    "         label=r'{\\fontfamily{qcr}\\selectfont LH}$_{\\mathtt{Oracle}}$+' + r'{\\fontfamily{qcr}\\selectfont D}$_{\\mathtt{POS}}$')\n",
    "\n",
    "plt.ylabel('Mention Pairs')\n",
    "plt.xlabel('Mentions')\n",
    "plt.yticks(0, 20, 40, )\n",
    "plt.legend()"
   ]
  },
  {
   "cell_type": "code",
   "execution_count": null,
   "id": "31c8ca9f",
   "metadata": {},
   "outputs": [],
   "source": [
    "lh_pairs_counts"
   ]
  },
  {
   "cell_type": "code",
   "execution_count": null,
   "id": "30d3463c",
   "metadata": {},
   "outputs": [],
   "source": []
  }
 ],
 "metadata": {
  "kernelspec": {
   "display_name": "Python 3 (ipykernel)",
   "language": "python",
   "name": "python3"
  },
  "language_info": {
   "codemirror_mode": {
    "name": "ipython",
    "version": 3
   },
   "file_extension": ".py",
   "mimetype": "text/x-python",
   "name": "python",
   "nbconvert_exporter": "python",
   "pygments_lexer": "ipython3",
   "version": "3.9.13"
  }
 },
 "nbformat": 4,
 "nbformat_minor": 5
}
