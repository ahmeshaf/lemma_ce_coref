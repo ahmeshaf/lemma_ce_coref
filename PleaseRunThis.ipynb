{
 "cells": [
  {
   "cell_type": "markdown",
   "id": "adc5fa5f",
   "metadata": {},
   "source": [
    "# End-to-end Experiment for the ACL paper\n",
    "\n",
    "credits to https://github.com/aviclu/CDLM for code"
   ]
  },
  {
   "cell_type": "markdown",
   "id": "2efdc3ed",
   "metadata": {},
   "source": [
    "## Heuristic"
   ]
  },
  {
   "cell_type": "code",
   "execution_count": 5,
   "id": "e33ceadc",
   "metadata": {},
   "outputs": [],
   "source": [
    "from heuristic import lh, lh_oracle\n",
    "from helper import DEV, TEST"
   ]
  },
  {
   "cell_type": "code",
   "execution_count": 6,
   "id": "7c92040e",
   "metadata": {},
   "outputs": [],
   "source": [
    "ECB='ecb'\n",
    "GVC='gvc'"
   ]
  },
  {
   "cell_type": "markdown",
   "id": "07367cea",
   "metadata": {},
   "source": [
    "### LH - ECB"
   ]
  },
  {
   "cell_type": "code",
   "execution_count": 3,
   "id": "6e5ae075",
   "metadata": {},
   "outputs": [
    {
     "name": "stdout",
     "output_type": "stream",
     "text": [
      "train\n"
     ]
    },
    {
     "name": "stderr",
     "output_type": "stream",
     "text": [
      "Generating Similarities: 100%|█████████████████████████████████████████████████████████████████████████████████████████████████████████████████████████████████████████████████████████████████████████████████████████████████████████████████████████████████████| 341706/341706 [00:00<00:00, 376682.19it/s]\n"
     ]
    },
    {
     "name": "stdout",
     "output_type": "stream",
     "text": [
      "true positives: 13065\n",
      "false positives: 14863\n",
      "true negatives: 311632\n",
      "false negatives: 2146\n",
      "\n",
      "After transitive closure\n",
      "true positives: 15189\n",
      "false positives: 65358\n",
      "true negatives: 261137\n",
      "false negatives: 22\n",
      "dev\n"
     ]
    },
    {
     "name": "stderr",
     "output_type": "stream",
     "text": [
      "Generating Similarities: 100%|█████████████████████████████████████████████████████████████████████████████████████████████████████████████████████████████████████████████████████████████████████████████████████████████████████████████████████████████████████| 100784/100784 [00:00<00:00, 383360.63it/s]\n"
     ]
    },
    {
     "name": "stdout",
     "output_type": "stream",
     "text": [
      "true positives: 3540\n",
      "false positives: 4929\n",
      "true negatives: 89972\n",
      "false negatives: 2343\n",
      "\n",
      "After transitive closure\n",
      "true positives: 3998\n",
      "false positives: 11363\n",
      "true negatives: 83538\n",
      "false negatives: 1885\n",
      "test\n"
     ]
    },
    {
     "name": "stderr",
     "output_type": "stream",
     "text": [
      "Generating Similarities: 100%|███████████████████████████████████████████████████████████████████████████████████████████████████████████████████████████████████████████████████████████████████████████████████████████████████████████████████████████████████████| 93878/93878 [00:00<00:00, 366122.69it/s]\n"
     ]
    },
    {
     "name": "stdout",
     "output_type": "stream",
     "text": [
      "true positives: 3517\n",
      "false positives: 2058\n",
      "true negatives: 85222\n",
      "false negatives: 3081\n",
      "\n",
      "After transitive closure\n",
      "true positives: 4326\n",
      "false positives: 4676\n",
      "true negatives: 82604\n",
      "false negatives: 2272\n"
     ]
    }
   ],
   "source": [
    "lh(ECB, threshold=0.05)"
   ]
  },
  {
   "cell_type": "markdown",
   "id": "180db81a",
   "metadata": {},
   "source": [
    "### LH - GVC"
   ]
  },
  {
   "cell_type": "code",
   "execution_count": 4,
   "id": "decf0850",
   "metadata": {},
   "outputs": [
    {
     "name": "stdout",
     "output_type": "stream",
     "text": [
      "train\n"
     ]
    },
    {
     "name": "stderr",
     "output_type": "stream",
     "text": [
      "Generating Similarities: 100%|█████████████████████████████████████████████████████████████████████████████████████████████████████████████████████████████████████████████████████████████████████████████████████████████████████████████████████████████████████| 112354/112354 [00:00<00:00, 266552.13it/s]\n"
     ]
    },
    {
     "name": "stdout",
     "output_type": "stream",
     "text": [
      "true positives: 17950\n",
      "false positives: 35750\n",
      "true negatives: 49768\n",
      "false negatives: 8886\n",
      "\n",
      "After transitive closure\n",
      "true positives: 26458\n",
      "false positives: 82656\n",
      "true negatives: 2862\n",
      "false negatives: 378\n",
      "dev\n"
     ]
    },
    {
     "name": "stderr",
     "output_type": "stream",
     "text": [
      "Generating Similarities: 100%|███████████████████████████████████████████████████████████████████████████████████████████████████████████████████████████████████████████████████████████████████████████████████████████████████████████████████████████████████████| 16538/16538 [00:00<00:00, 333053.57it/s]\n"
     ]
    },
    {
     "name": "stdout",
     "output_type": "stream",
     "text": [
      "true positives: 2585\n",
      "false positives: 6192\n",
      "true negatives: 6646\n",
      "false negatives: 1115\n",
      "\n",
      "After transitive closure\n",
      "true positives: 3633\n",
      "false positives: 12353\n",
      "true negatives: 485\n",
      "false negatives: 67\n",
      "test\n"
     ]
    },
    {
     "name": "stderr",
     "output_type": "stream",
     "text": [
      "Generating Similarities: 100%|███████████████████████████████████████████████████████████████████████████████████████████████████████████████████████████████████████████████████████████████████████████████████████████████████████████████████████████████████████| 18961/18961 [00:00<00:00, 295003.41it/s]\n"
     ]
    },
    {
     "name": "stdout",
     "output_type": "stream",
     "text": [
      "true positives: 2633\n",
      "false positives: 6768\n",
      "true negatives: 8080\n",
      "false negatives: 1480\n",
      "\n",
      "After transitive closure\n",
      "true positives: 3887\n",
      "false positives: 13917\n",
      "true negatives: 931\n",
      "false negatives: 226\n"
     ]
    }
   ],
   "source": [
    "lh(GVC, threshold=0.05)"
   ]
  },
  {
   "cell_type": "markdown",
   "id": "9d5cad2b",
   "metadata": {},
   "source": [
    "### LH_ORACLE - ECB, GVC"
   ]
  },
  {
   "cell_type": "code",
   "execution_count": 5,
   "id": "63898ab4",
   "metadata": {},
   "outputs": [
    {
     "name": "stdout",
     "output_type": "stream",
     "text": [
      "------- train --------\n"
     ]
    },
    {
     "name": "stderr",
     "output_type": "stream",
     "text": [
      "Generating Similarities: 100%|█████████████████████████████████████████████████████████████████████████████████████████████████████████████████████████████████████████████████████████████████████████████████████████████████████████████████████████████████████| 341706/341706 [00:00<00:00, 366405.10it/s]\n"
     ]
    },
    {
     "name": "stdout",
     "output_type": "stream",
     "text": [
      "true positives: 13065\n",
      "false positives: 14863\n",
      "true negatives: 311632\n",
      "false negatives: 2146\n",
      "\n",
      "After transitive closure\n",
      "true positives: 15189\n",
      "false positives: 65358\n",
      "true negatives: 261137\n",
      "false negatives: 22\n",
      "------- dev --------\n"
     ]
    },
    {
     "name": "stderr",
     "output_type": "stream",
     "text": [
      "Generating Similarities: 100%|█████████████████████████████████████████████████████████████████████████████████████████████████████████████████████████████████████████████████████████████████████████████████████████████████████████████████████████████████████| 100784/100784 [00:00<00:00, 382011.58it/s]\n"
     ]
    },
    {
     "name": "stdout",
     "output_type": "stream",
     "text": [
      "true positives: 5323\n",
      "false positives: 5614\n",
      "true negatives: 89287\n",
      "false negatives: 560\n",
      "\n",
      "After transitive closure\n",
      "true positives: 5870\n",
      "false positives: 15379\n",
      "true negatives: 79522\n",
      "false negatives: 13\n",
      "------- test --------\n"
     ]
    },
    {
     "name": "stderr",
     "output_type": "stream",
     "text": [
      "Generating Similarities: 100%|███████████████████████████████████████████████████████████████████████████████████████████████████████████████████████████████████████████████████████████████████████████████████████████████████████████████████████████████████████| 93878/93878 [00:00<00:00, 355472.08it/s]\n"
     ]
    },
    {
     "name": "stdout",
     "output_type": "stream",
     "text": [
      "true positives: 5391\n",
      "false positives: 2397\n",
      "true negatives: 84883\n",
      "false negatives: 1207\n",
      "\n",
      "After transitive closure\n",
      "true positives: 6562\n",
      "false positives: 8833\n",
      "true negatives: 78447\n",
      "false negatives: 36\n",
      "------- train --------\n"
     ]
    },
    {
     "name": "stderr",
     "output_type": "stream",
     "text": [
      "Generating Similarities: 100%|█████████████████████████████████████████████████████████████████████████████████████████████████████████████████████████████████████████████████████████████████████████████████████████████████████████████████████████████████████| 112354/112354 [00:00<00:00, 264667.79it/s]\n"
     ]
    },
    {
     "name": "stdout",
     "output_type": "stream",
     "text": [
      "true positives: 17950\n",
      "false positives: 35750\n",
      "true negatives: 49768\n",
      "false negatives: 8886\n",
      "\n",
      "After transitive closure\n",
      "true positives: 26458\n",
      "false positives: 82656\n",
      "true negatives: 2862\n",
      "false negatives: 378\n",
      "------- dev --------\n"
     ]
    },
    {
     "name": "stderr",
     "output_type": "stream",
     "text": [
      "Generating Similarities: 100%|███████████████████████████████████████████████████████████████████████████████████████████████████████████████████████████████████████████████████████████████████████████████████████████████████████████████████████████████████████| 16538/16538 [00:00<00:00, 318645.95it/s]\n"
     ]
    },
    {
     "name": "stdout",
     "output_type": "stream",
     "text": [
      "true positives: 2675\n",
      "false positives: 5403\n",
      "true negatives: 7435\n",
      "false negatives: 1025\n",
      "\n",
      "After transitive closure\n",
      "true positives: 3643\n",
      "false positives: 11869\n",
      "true negatives: 969\n",
      "false negatives: 57\n",
      "------- test --------\n"
     ]
    },
    {
     "name": "stderr",
     "output_type": "stream",
     "text": [
      "Generating Similarities: 100%|███████████████████████████████████████████████████████████████████████████████████████████████████████████████████████████████████████████████████████████████████████████████████████████████████████████████████████████████████████| 18961/18961 [00:00<00:00, 313452.38it/s]\n"
     ]
    },
    {
     "name": "stdout",
     "output_type": "stream",
     "text": [
      "true positives: 2841\n",
      "false positives: 5442\n",
      "true negatives: 9406\n",
      "false negatives: 1272\n",
      "\n",
      "After transitive closure\n",
      "true positives: 3985\n",
      "false positives: 13892\n",
      "true negatives: 956\n",
      "false negatives: 128\n"
     ]
    }
   ],
   "source": [
    "lh_oracle(ECB, threshold=0.05)\n",
    "lh_oracle(GVC, threshold=0.05)"
   ]
  },
  {
   "cell_type": "markdown",
   "id": "821c9832",
   "metadata": {},
   "source": [
    "## Training"
   ]
  },
  {
   "cell_type": "code",
   "execution_count": 1,
   "id": "20840572",
   "metadata": {},
   "outputs": [],
   "source": [
    "from training import train_dpos"
   ]
  },
  {
   "cell_type": "markdown",
   "id": "9bad1c1b",
   "metadata": {},
   "source": [
    "### D-Small"
   ]
  },
  {
   "cell_type": "code",
   "execution_count": null,
   "id": "44072ce6",
   "metadata": {},
   "outputs": [],
   "source": [
    "#  batch_size=20, n_iters=10, lr_lm(Language model)=0.000001, lr_class(classifier)=0.0001\n",
    "#  max_sequence_length = 512 \n",
    "train_dpos(ECB, model_name='roberta-base')\n",
    "train_dpos(GVC, model_name='roberta-base')"
   ]
  },
  {
   "cell_type": "markdown",
   "id": "3c29dfd4",
   "metadata": {},
   "source": [
    "### D-Long"
   ]
  },
  {
   "cell_type": "code",
   "execution_count": null,
   "id": "83f007db",
   "metadata": {},
   "outputs": [],
   "source": [
    "#  batch_size=20, n_iters=10, lr_lm(Language model)=0.000001, lr_class(classifier)=0.0001\n",
    "#  max_sequence_length = 1024 \n",
    "train_dpos(ECB, model_name='allenai/longformer-base-4096')\n",
    "train_dpos(GVC, model_name='allenai/longformer-base-4096')"
   ]
  },
  {
   "cell_type": "markdown",
   "id": "e9ce9aa9",
   "metadata": {},
   "source": [
    "## Prediction"
   ]
  },
  {
   "cell_type": "code",
   "execution_count": 3,
   "id": "6ef678da",
   "metadata": {},
   "outputs": [],
   "source": [
    "from helper import DEV, TEST\n",
    "from prediction import predict"
   ]
  },
  {
   "cell_type": "markdown",
   "id": "b1a7a766",
   "metadata": {},
   "source": [
    "### Baselines"
   ]
  },
  {
   "cell_type": "code",
   "execution_count": 7,
   "id": "b7ab9856",
   "metadata": {},
   "outputs": [
    {
     "name": "stdout",
     "output_type": "stream",
     "text": [
      "3517 2058 2272\n",
      "ecb test\n",
      "& lh && 85.1  & 75.6 & 80.1 && 83.2 & 72.2 & 77.3 && 66.2 & 78.1 & 71.7 && 67.3 & 62.6 & 64.9 && 76.4 \\\n"
     ]
    }
   ],
   "source": [
    "## LH predict ecb\n",
    "predict(ECB, TEST, heu='lh')"
   ]
  },
  {
   "cell_type": "code",
   "execution_count": 8,
   "id": "a80c5300",
   "metadata": {},
   "outputs": [
    {
     "name": "stdout",
     "output_type": "stream",
     "text": [
      "5391 2397 36\n",
      "ecb test\n",
      "& lh_oracle && 99.1  & 79.6 & 88.3 && 97.9 & 67.7 & 80.0 && 65.9 & 93.7 & 77.4 && 85.1 & 63.8 & 72.9 && 81.9 \\\n"
     ]
    }
   ],
   "source": [
    "## LH_ORACLE predict ecb\n",
    "predict(ECB, TEST, heu='lh_oracle')"
   ]
  },
  {
   "cell_type": "code",
   "execution_count": 9,
   "id": "781c0037",
   "metadata": {},
   "outputs": [
    {
     "name": "stdout",
     "output_type": "stream",
     "text": [
      "2633 6768 226\n",
      "gvc test\n",
      "& lh && 94.8  & 82.0 & 87.9 && 90.1 & 28.5 & 43.3 && 16.3 & 47.8 & 24.3 && 85.1 & 23.9 & 37.4 && 51.8 \\\n"
     ]
    }
   ],
   "source": [
    "## LH predict gvc\n",
    "predict(GVC, TEST, heu='lh')"
   ]
  },
  {
   "cell_type": "code",
   "execution_count": 10,
   "id": "711b92fb",
   "metadata": {},
   "outputs": [
    {
     "name": "stdout",
     "output_type": "stream",
     "text": [
      "2841 5442 128\n",
      "gvc test\n",
      "& lh_oracle && 95.2  & 82.3 & 88.3 && 91.2 & 29.1 & 44.1 && 18.6 & 54.7 & 27.8 && 86.4 & 24.9 & 38.6 && 53.4 \\\n"
     ]
    }
   ],
   "source": [
    "## LH_ORACLE predict gvc\n",
    "predict(GVC, TEST, heu='lh_oracle')"
   ]
  },
  {
   "cell_type": "markdown",
   "id": "102d18cb",
   "metadata": {},
   "source": [
    "### Running LH + D_small"
   ]
  },
  {
   "cell_type": "code",
   "execution_count": 3,
   "id": "4c1930d5",
   "metadata": {},
   "outputs": [],
   "source": [
    "from prediction import predict_with_dpos, save_dpos_scores, get_dpos"
   ]
  },
  {
   "cell_type": "code",
   "execution_count": 13,
   "id": "6888abb1",
   "metadata": {},
   "outputs": [
    {
     "name": "stdout",
     "output_type": "stream",
     "text": [
      "--2023-01-18 20:24:29--  https://www.dropbox.com/s/rgvj73vt6wryhn6/ecb_small.zip?dl=0\n",
      "Resolving www.dropbox.com (www.dropbox.com)... 162.125.8.18, 2620:100:601b:18::a27d:812\n",
      "Connecting to www.dropbox.com (www.dropbox.com)|162.125.8.18|:443... connected.\n",
      "HTTP request sent, awaiting response... 302 Found\n",
      "Location: /s/raw/rgvj73vt6wryhn6/ecb_small.zip [following]\n",
      "--2023-01-18 20:24:29--  https://www.dropbox.com/s/raw/rgvj73vt6wryhn6/ecb_small.zip\n",
      "Reusing existing connection to www.dropbox.com:443.\n",
      "HTTP request sent, awaiting response... 302 Found\n",
      "Location: https://ucba30ab5f5a7231da93dc81048f.dl.dropboxusercontent.com/cd/0/inline/B01Z8qtLRoFL_lOgi-xtBq-uouyyOSGv2KIDq5GMp9lnAaLxFW2VhzGF8xubNetT0Gs_bikAYDIULelBygB4WN4rxwHCvFUfo_mPpfs4akbjitPN4BlAHj7K-icaoEDenuerbQx9vP8Ljeq5ON7idIxNsh70CktfU6GBbJDN52g-6g/file# [following]\n",
      "--2023-01-18 20:24:30--  https://ucba30ab5f5a7231da93dc81048f.dl.dropboxusercontent.com/cd/0/inline/B01Z8qtLRoFL_lOgi-xtBq-uouyyOSGv2KIDq5GMp9lnAaLxFW2VhzGF8xubNetT0Gs_bikAYDIULelBygB4WN4rxwHCvFUfo_mPpfs4akbjitPN4BlAHj7K-icaoEDenuerbQx9vP8Ljeq5ON7idIxNsh70CktfU6GBbJDN52g-6g/file\n",
      "Resolving ucba30ab5f5a7231da93dc81048f.dl.dropboxusercontent.com (ucba30ab5f5a7231da93dc81048f.dl.dropboxusercontent.com)... 162.125.8.15, 2620:100:601b:15::a27d:80f\n",
      "Connecting to ucba30ab5f5a7231da93dc81048f.dl.dropboxusercontent.com (ucba30ab5f5a7231da93dc81048f.dl.dropboxusercontent.com)|162.125.8.15|:443... connected.\n",
      "HTTP request sent, awaiting response... 302 Found\n",
      "Location: /cd/0/inline2/B02pZG1a2kAKSml_Cblemp14vGe9divAsb-GXY-SG3GbjA1PD02HMlJnXnFpBM5uW6pbXUyC4amInXcyg0pOdKeX3OoLP2_gCNbiVT1QKCNIDkw5rs9ZgsvREKamRi21gwdtGcAvGXQHji0wTZci68dEMxWofh-iXfF8BtBwLMYSHxl59RsG7sfZi-i9fYaQonfI60GC8b3K1YTHq4Qeq1IkdrmPAtugG8BR8whpqmp7-tNwvpt_2WkePCj-7JBBc-nszfk8EpWFuErETiuIFvz97lpKOdoeo2lodpRFN1C9kbONKnxRc-ua8kIoBLhEx8onaFY03jX9n3MB1z7u5GfnMF7SNLNG7TDkr7Q_jieXqcZk9LPp6lRKwOWrXP7SJvdkTNvfmTKsNrIGfUpk8OqDmOGjvCghHrPsBHG8I7UX0Q/file [following]\n",
      "--2023-01-18 20:24:30--  https://ucba30ab5f5a7231da93dc81048f.dl.dropboxusercontent.com/cd/0/inline2/B02pZG1a2kAKSml_Cblemp14vGe9divAsb-GXY-SG3GbjA1PD02HMlJnXnFpBM5uW6pbXUyC4amInXcyg0pOdKeX3OoLP2_gCNbiVT1QKCNIDkw5rs9ZgsvREKamRi21gwdtGcAvGXQHji0wTZci68dEMxWofh-iXfF8BtBwLMYSHxl59RsG7sfZi-i9fYaQonfI60GC8b3K1YTHq4Qeq1IkdrmPAtugG8BR8whpqmp7-tNwvpt_2WkePCj-7JBBc-nszfk8EpWFuErETiuIFvz97lpKOdoeo2lodpRFN1C9kbONKnxRc-ua8kIoBLhEx8onaFY03jX9n3MB1z7u5GfnMF7SNLNG7TDkr7Q_jieXqcZk9LPp6lRKwOWrXP7SJvdkTNvfmTKsNrIGfUpk8OqDmOGjvCghHrPsBHG8I7UX0Q/file\n",
      "Reusing existing connection to ucba30ab5f5a7231da93dc81048f.dl.dropboxusercontent.com:443.\n",
      "HTTP request sent, awaiting response... 200 OK\n",
      "Length: 426860448 (407M) [application/zip]\n",
      "Saving to: ‘ecb_small.zip?dl=0’\n",
      "\n",
      "ecb_small.zip?dl=0  100%[===================>] 407.08M  19.2MB/s    in 21s     \n",
      "\n",
      "2023-01-18 20:24:51 (19.4 MB/s) - ‘ecb_small.zip?dl=0’ saved [426860448/426860448]\n",
      "\n"
     ]
    }
   ],
   "source": [
    "# download ecb model\n",
    "\n",
    "! wget https://www.dropbox.com/s/rgvj73vt6wryhn6/ecb_small.zip?dl=0"
   ]
  },
  {
   "cell_type": "code",
   "execution_count": 16,
   "id": "8520807a",
   "metadata": {},
   "outputs": [
    {
     "name": "stdout",
     "output_type": "stream",
     "text": [
      "Archive:  ecb_small.zip?dl=0\n",
      "   creating: ecb_small/\n",
      "   creating: ecb_small/bert/\n",
      "  inflating: ecb_small/bert/config.json  \n",
      "  inflating: ecb_small/bert/pytorch_model.bin  \n",
      "  inflating: ecb_small/bert/tokenizer_config.json  \n",
      "  inflating: ecb_small/bert/special_tokens_map.json  \n",
      "  inflating: ecb_small/bert/added_tokens.json  \n",
      "  inflating: ecb_small/bert/vocab.json  \n",
      "  inflating: ecb_small/bert/merges.txt  \n",
      "  inflating: ecb_small/bert/tokenizer.json  \n",
      "  inflating: ecb_small/linear.chkpt  \n"
     ]
    }
   ],
   "source": [
    "!unzip ecb_small.zip\\?dl\\=0"
   ]
  },
  {
   "cell_type": "code",
   "execution_count": 4,
   "id": "61e6f472",
   "metadata": {},
   "outputs": [
    {
     "name": "stderr",
     "output_type": "stream",
     "text": [
      "Predicting: 100%|██████████████████████████████████████████████████████████████████████████████████████████████████████████████████████████████████████████████████████████████████████████████████████████████████████████████████████████████████████████████████████████████| 88/88 [01:26<00:00,  1.02it/s]\n"
     ]
    },
    {
     "name": "stdout",
     "output_type": "stream",
     "text": [
      "Test accuracy: tensor(0.6450)\n",
      "Test precision: tensor(0.8792)\n",
      "Test recall: tensor(0.5070)\n",
      "Test f1: tensor(0.6431)\n",
      "3517 2058 2272\n",
      "ecb test\n",
      "& lh && 76.2  & 86.9 & 81.2 && 77.8 & 85.7 & 81.6 && 83.9 & 73.0 & 78.1 && 68.7 & 71.5 & 70.1 && 80.3 \\\n"
     ]
    }
   ],
   "source": [
    "heu ='heu'\n",
    "dpos_path =  './ecb_small/'\n",
    "save_dpos_scores(ECB, TEST, dpos_path, heu=heu, text_key='bert_sentence', max_sentence_len=512, long=False)\n",
    "dpos = get_dpos(ECB, heu, TEST)\n",
    "predict_with_dpos(ECB, TEST, dpos, heu=heu)"
   ]
  },
  {
   "cell_type": "code",
   "execution_count": 5,
   "id": "3fad28ba",
   "metadata": {},
   "outputs": [
    {
     "name": "stderr",
     "output_type": "stream",
     "text": [
      "Predicting: 100%|████████████████████████████████████████████████████████████████████████████████████████████████████████████████████████████████████████████████████████████████████████████████████████████████████████████████████████████████████████████████████████████| 122/122 [02:01<00:00,  1.01it/s]\n"
     ]
    },
    {
     "name": "stdout",
     "output_type": "stream",
     "text": [
      "Test accuracy: tensor(0.5678)\n",
      "Test precision: tensor(0.8860)\n",
      "Test recall: tensor(0.4311)\n",
      "Test f1: tensor(0.5800)\n",
      "5391 2397 36\n",
      "ecb test\n",
      "& lh_oracle && 89.8  & 87.6 & 88.7 && 90.7 & 80.2 & 85.1 && 82.5 & 85.1 & 83.8 && 83.3 & 72.2 & 77.3 && 85.9 \\\n"
     ]
    }
   ],
   "source": [
    "# LH_ORACLE + D small\n",
    "heu='lh_oracle'\n",
    "dpos_path =  './ecb_small/'\n",
    "save_dpos_scores(ECB, TEST, dpos_path, heu=heu, text_key='bert_sentence', max_sentence_len=512, long=False)\n",
    "dpos = get_dpos(dataset, heu, TEST)\n",
    "predict_with_dpos(dataset, TEST, dpos, heu=heu)"
   ]
  },
  {
   "cell_type": "markdown",
   "id": "340a7e6f",
   "metadata": {},
   "source": [
    "### D Long experiments"
   ]
  },
  {
   "cell_type": "code",
   "execution_count": 12,
   "id": "34d1bc21",
   "metadata": {},
   "outputs": [
    {
     "name": "stdout",
     "output_type": "stream",
     "text": [
      "huggingface/tokenizers: The current process just got forked, after parallelism has already been used. Disabling parallelism to avoid deadlocks...\n",
      "To disable this warning, you can either:\n",
      "\t- Avoid using `tokenizers` before the fork if possible\n",
      "\t- Explicitly set the environment variable TOKENIZERS_PARALLELISM=(true | false)\n",
      "--2023-01-18 22:17:40--  https://www.dropbox.com/s/8u1xzdavoyk2c4o/ecb_long.zip?dl=0\n",
      "Resolving www.dropbox.com (www.dropbox.com)... 162.125.8.18, 2620:100:601b:18::a27d:812\n",
      "Connecting to www.dropbox.com (www.dropbox.com)|162.125.8.18|:443... connected.\n",
      "HTTP request sent, awaiting response... 302 Found\n",
      "Location: /s/raw/8u1xzdavoyk2c4o/ecb_long.zip [following]\n",
      "--2023-01-18 22:17:41--  https://www.dropbox.com/s/raw/8u1xzdavoyk2c4o/ecb_long.zip\n",
      "Reusing existing connection to www.dropbox.com:443.\n",
      "HTTP request sent, awaiting response... 302 Found\n",
      "Location: https://uc790ccc6d9a53f53956fcd9b061.dl.dropboxusercontent.com/cd/0/inline/B012rvM5epC7WladMfsNYhaXEkmsWHnGBCYEvNTcK0lLmB_YirO-6Y2jcl_OmmeuGDIBx2WG9Tc76YcWOZnVnS2rEV7c-hLVQIm4Qd0KWRMj6eEOkZXbFi1yG3HgtPF98H_Dq2jGEnl1XHdMVQ53P1sT0Ki2pGQEZbz_YDeMBedowg/file# [following]\n",
      "--2023-01-18 22:17:41--  https://uc790ccc6d9a53f53956fcd9b061.dl.dropboxusercontent.com/cd/0/inline/B012rvM5epC7WladMfsNYhaXEkmsWHnGBCYEvNTcK0lLmB_YirO-6Y2jcl_OmmeuGDIBx2WG9Tc76YcWOZnVnS2rEV7c-hLVQIm4Qd0KWRMj6eEOkZXbFi1yG3HgtPF98H_Dq2jGEnl1XHdMVQ53P1sT0Ki2pGQEZbz_YDeMBedowg/file\n",
      "Resolving uc790ccc6d9a53f53956fcd9b061.dl.dropboxusercontent.com (uc790ccc6d9a53f53956fcd9b061.dl.dropboxusercontent.com)... 162.125.8.15, 2620:100:601b:15::a27d:80f\n",
      "Connecting to uc790ccc6d9a53f53956fcd9b061.dl.dropboxusercontent.com (uc790ccc6d9a53f53956fcd9b061.dl.dropboxusercontent.com)|162.125.8.15|:443... connected.\n",
      "HTTP request sent, awaiting response... 302 Found\n",
      "Location: /cd/0/inline2/B03N4qGiX_MZ7_JhJasWvrqUexMawz5R8E4Abnr4wGz-q3lsn7qzCpLg9fNZJNhJSWEzysR6nY9MdZO3ttwQAS7-vXm0qQYOKEE1_KvBzcY5trTaQRzmFy91EmGiP7xuuKwvGsK7uPGg0snYLroIn6tfhxKTR7Bm9u1keaw8J35NckfNe_V62OuNbD277eHT3kxR55j9f_kaj6WNefVCgKXhYCqqOgJWsQGeha0dQjVCantkrZ-wSslYasI29mjcgxHe55Qj_Z_VTcwwSVolnQI2iR2wYEjya9ZKnl40CpZ03yJege61qlCxIGquBLdJ0nJ5pCqK6NWwv8Q12Q7yBH0fuyfmItATyoFvqgyv_qUXP31giIbzeHw_Q_ChI4lzC1gxMAFWYNtoWrJuUYVnaBK8zpXER4WAmB2v-UHwFevseA/file [following]\n",
      "--2023-01-18 22:17:42--  https://uc790ccc6d9a53f53956fcd9b061.dl.dropboxusercontent.com/cd/0/inline2/B03N4qGiX_MZ7_JhJasWvrqUexMawz5R8E4Abnr4wGz-q3lsn7qzCpLg9fNZJNhJSWEzysR6nY9MdZO3ttwQAS7-vXm0qQYOKEE1_KvBzcY5trTaQRzmFy91EmGiP7xuuKwvGsK7uPGg0snYLroIn6tfhxKTR7Bm9u1keaw8J35NckfNe_V62OuNbD277eHT3kxR55j9f_kaj6WNefVCgKXhYCqqOgJWsQGeha0dQjVCantkrZ-wSslYasI29mjcgxHe55Qj_Z_VTcwwSVolnQI2iR2wYEjya9ZKnl40CpZ03yJege61qlCxIGquBLdJ0nJ5pCqK6NWwv8Q12Q7yBH0fuyfmItATyoFvqgyv_qUXP31giIbzeHw_Q_ChI4lzC1gxMAFWYNtoWrJuUYVnaBK8zpXER4WAmB2v-UHwFevseA/file\n",
      "Reusing existing connection to uc790ccc6d9a53f53956fcd9b061.dl.dropboxusercontent.com:443.\n",
      "HTTP request sent, awaiting response... 200 OK\n",
      "Length: 494273189 (471M) [application/zip]\n",
      "Saving to: ‘ecb_long.zip?dl=0.1’\n",
      "\n",
      "ecb_long.zip?dl=0.1 100%[===================>] 471.38M  31.1MB/s    in 16s     \n",
      "\n",
      "2023-01-18 22:17:58 (30.3 MB/s) - ‘ecb_long.zip?dl=0.1’ saved [494273189/494273189]\n",
      "\n"
     ]
    }
   ],
   "source": [
    "# LH + D long\n",
    "\n",
    "!wget https://www.dropbox.com/s/8u1xzdavoyk2c4o/ecb_long.zip?dl=0"
   ]
  },
  {
   "cell_type": "code",
   "execution_count": 13,
   "id": "502130c4",
   "metadata": {},
   "outputs": [
    {
     "name": "stdout",
     "output_type": "stream",
     "text": [
      "huggingface/tokenizers: The current process just got forked, after parallelism has already been used. Disabling parallelism to avoid deadlocks...\n",
      "To disable this warning, you can either:\n",
      "\t- Avoid using `tokenizers` before the fork if possible\n",
      "\t- Explicitly set the environment variable TOKENIZERS_PARALLELISM=(true | false)\n",
      "Archive:  ecb_long.zip?dl=0\n",
      "   creating: ecb_long/\n",
      "   creating: ecb_long/bert/\n",
      "  inflating: ecb_long/bert/tokenizer.json  \n",
      "  inflating: ecb_long/bert/special_tokens_map.json  \n",
      "  inflating: ecb_long/bert/added_tokens.json  \n",
      "  inflating: ecb_long/bert/merges.txt  \n",
      "  inflating: ecb_long/bert/config.json  \n",
      "  inflating: ecb_long/bert/pytorch_model.bin  \n",
      "  inflating: ecb_long/bert/tokenizer_config.json  \n",
      "  inflating: ecb_long/bert/vocab.json  \n",
      "  inflating: ecb_long/linear.chkpt   \n"
     ]
    }
   ],
   "source": [
    "!unzip ecb_long.zip\\?dl=0"
   ]
  },
  {
   "cell_type": "code",
   "execution_count": 8,
   "id": "539a857d",
   "metadata": {
    "scrolled": true
   },
   "outputs": [
    {
     "name": "stderr",
     "output_type": "stream",
     "text": [
      "Predicting: 100%|██████████████████████████████████████████████████████████████████████████████████████████████████████████████████████████████████████████████████████████████████████████████████████████████████████████████████████████████████████████████████████████████| 88/88 [04:40<00:00,  3.19s/it]\n"
     ]
    },
    {
     "name": "stdout",
     "output_type": "stream",
     "text": [
      "Test accuracy: tensor(0.7713)\n",
      "Test precision: tensor(0.7983)\n",
      "Test recall: tensor(0.8530)\n",
      "Test f1: tensor(0.8247)\n",
      "3517 2058 2272\n",
      "ecb test\n",
      "& lh && 80.3  & 87.2 & 83.6 && 79.7 & 85.3 & 82.4 && 82.9 & 75.7 & 79.1 && 70.5 & 73.4 & 71.9 && 81.7 \\\n"
     ]
    }
   ],
   "source": [
    "# LH + D long ECB\n",
    "\n",
    "heu='lh'\n",
    "dpos_path =  './ecb_long/'\n",
    "save_dpos_scores(ECB, TEST, dpos_path, heu=heu, text_key='bert_doc', max_sentence_len=1024, long=True)\n",
    "dpos = get_dpos(ECB, heu, TEST)\n",
    "predict_with_dpos(ECB, TEST, dpos, heu=heu)"
   ]
  },
  {
   "cell_type": "code",
   "execution_count": 7,
   "id": "4e0900d5",
   "metadata": {},
   "outputs": [
    {
     "name": "stderr",
     "output_type": "stream",
     "text": [
      "Predicting: 100%|████████████████████████████████████████████████████████████████████████████████████████████████████████████████████████████████████████████████████████████████████████████████████████████████████████████████████████████████████████████████████████████| 122/122 [06:31<00:00,  3.21s/it]\n"
     ]
    },
    {
     "name": "stdout",
     "output_type": "stream",
     "text": [
      "Test accuracy: tensor(0.7209)\n",
      "Test precision: tensor(0.8182)\n",
      "Test recall: tensor(0.7672)\n",
      "Test f1: tensor(0.7919)\n",
      "5391 2397 36\n",
      "ecb test\n",
      "& lh_oracle && 93.1  & 88.5 & 90.8 && 93.6 & 80.7 & 86.7 && 82.0 & 87.5 & 84.7 && 86.1 & 73.7 & 79.4 && 87.4 \\\n"
     ]
    }
   ],
   "source": [
    "# LH_Oracle + D long ECB\n",
    "\n",
    "heu='lh_oracle'\n",
    "dpos_path =  './ecb_long/'\n",
    "save_dpos_scores(ECB, TEST, dpos_path, heu=heu, text_key='bert_doc', max_sentence_len=1024, long=True)\n",
    "dpos = get_dpos(ECB, heu, TEST)\n",
    "predict_with_dpos(ECB, TEST, dpos, heu=heu)"
   ]
  },
  {
   "cell_type": "markdown",
   "id": "c3548eec",
   "metadata": {},
   "source": [
    "#### GVC"
   ]
  },
  {
   "cell_type": "code",
   "execution_count": 6,
   "id": "a3c4e151",
   "metadata": {},
   "outputs": [
    {
     "name": "stdout",
     "output_type": "stream",
     "text": [
      "huggingface/tokenizers: The current process just got forked, after parallelism has already been used. Disabling parallelism to avoid deadlocks...\n",
      "To disable this warning, you can either:\n",
      "\t- Avoid using `tokenizers` before the fork if possible\n",
      "\t- Explicitly set the environment variable TOKENIZERS_PARALLELISM=(true | false)\n",
      "--2023-01-18 20:48:21--  https://www.dropbox.com/s/3ytwc9q2sa8j67d/gvc_small.zip?dl=0\n",
      "Resolving www.dropbox.com (www.dropbox.com)... 162.125.8.18, 2620:100:601b:18::a27d:812\n",
      "Connecting to www.dropbox.com (www.dropbox.com)|162.125.8.18|:443... connected.\n",
      "HTTP request sent, awaiting response... 302 Found\n",
      "Location: /s/raw/3ytwc9q2sa8j67d/gvc_small.zip [following]\n",
      "--2023-01-18 20:48:21--  https://www.dropbox.com/s/raw/3ytwc9q2sa8j67d/gvc_small.zip\n",
      "Reusing existing connection to www.dropbox.com:443.\n",
      "HTTP request sent, awaiting response... 302 Found\n",
      "Location: https://uc3cdcb91a2a2cd620559798b1a6.dl.dropboxusercontent.com/cd/0/inline/B01d0HpKPzwA-fGRfN028-G9Jn2sgLbwkaWmBGrNpyShCeBp8huZI6RSbOwENHA91kBoV82xyARb7ljHLWmq-nIjJXfOL3s-zVIHehL1KoogI305dvEYLuHt7OUVC2IkV7QspQMilQskU_pcx5ccTGWhG5GkmgQPsxF5lR-lmljqcQ/file# [following]\n",
      "--2023-01-18 20:48:22--  https://uc3cdcb91a2a2cd620559798b1a6.dl.dropboxusercontent.com/cd/0/inline/B01d0HpKPzwA-fGRfN028-G9Jn2sgLbwkaWmBGrNpyShCeBp8huZI6RSbOwENHA91kBoV82xyARb7ljHLWmq-nIjJXfOL3s-zVIHehL1KoogI305dvEYLuHt7OUVC2IkV7QspQMilQskU_pcx5ccTGWhG5GkmgQPsxF5lR-lmljqcQ/file\n",
      "Resolving uc3cdcb91a2a2cd620559798b1a6.dl.dropboxusercontent.com (uc3cdcb91a2a2cd620559798b1a6.dl.dropboxusercontent.com)... 162.125.8.15, 2620:100:601b:15::a27d:80f\n",
      "Connecting to uc3cdcb91a2a2cd620559798b1a6.dl.dropboxusercontent.com (uc3cdcb91a2a2cd620559798b1a6.dl.dropboxusercontent.com)|162.125.8.15|:443... connected.\n",
      "HTTP request sent, awaiting response... 302 Found\n",
      "Location: /cd/0/inline2/B01qYChmgo88xL7k1HApsY6X7Ig44xn5jAI-gtcdfI73M1oHTeg-o7Fefa0cUKbxewbOJqTybDZzFbn0RzHU7HYKTj-EDnREv7jF6UwcG-fDYQ-tBQejIfEMqSHLTR5FuHxw_PDxRwwBSSiDvH2qK6cazhd_omM3NiLwm_isuXlpc1FjlSQtYiBCyyBx8bFjWEfiQvE6bRVNmxgXngFb_7rkaI41QDJzDSOVEBek0CSguSiEUqYlyCeGMjmS3z6xy5nAZt0Hc4Gj0td34i5totv9w8FBAv0moEvTaQZVpXQIiNss4-DLP4V1QycoozLTdem-PNVNjjANUgxiMVGnqLvJQxA8l4ZF5CANiJlC_Td5tk5aqdvLrTuNAisO3Lg9cSBCQKmRWa55cQaD-a8eXcPDM2ZwHttpiDxboNzkNRNmZQ/file [following]\n",
      "--2023-01-18 20:48:23--  https://uc3cdcb91a2a2cd620559798b1a6.dl.dropboxusercontent.com/cd/0/inline2/B01qYChmgo88xL7k1HApsY6X7Ig44xn5jAI-gtcdfI73M1oHTeg-o7Fefa0cUKbxewbOJqTybDZzFbn0RzHU7HYKTj-EDnREv7jF6UwcG-fDYQ-tBQejIfEMqSHLTR5FuHxw_PDxRwwBSSiDvH2qK6cazhd_omM3NiLwm_isuXlpc1FjlSQtYiBCyyBx8bFjWEfiQvE6bRVNmxgXngFb_7rkaI41QDJzDSOVEBek0CSguSiEUqYlyCeGMjmS3z6xy5nAZt0Hc4Gj0td34i5totv9w8FBAv0moEvTaQZVpXQIiNss4-DLP4V1QycoozLTdem-PNVNjjANUgxiMVGnqLvJQxA8l4ZF5CANiJlC_Td5tk5aqdvLrTuNAisO3Lg9cSBCQKmRWa55cQaD-a8eXcPDM2ZwHttpiDxboNzkNRNmZQ/file\n",
      "Reusing existing connection to uc3cdcb91a2a2cd620559798b1a6.dl.dropboxusercontent.com:443.\n",
      "HTTP request sent, awaiting response... 200 OK\n",
      "Length: 431735059 (412M) [application/zip]\n",
      "Saving to: ‘gvc_small.zip?dl=0’\n",
      "\n",
      "gvc_small.zip?dl=0  100%[===================>] 411.73M  32.6MB/s    in 14s     \n",
      "\n",
      "2023-01-18 20:48:37 (30.2 MB/s) - ‘gvc_small.zip?dl=0’ saved [431735059/431735059]\n",
      "\n"
     ]
    }
   ],
   "source": [
    "# download gvc d small model\n",
    "\n",
    "!wget https://www.dropbox.com/s/3ytwc9q2sa8j67d/gvc_small.zip?dl=0"
   ]
  },
  {
   "cell_type": "code",
   "execution_count": 7,
   "id": "2c9533ae",
   "metadata": {},
   "outputs": [
    {
     "name": "stdout",
     "output_type": "stream",
     "text": [
      "huggingface/tokenizers: The current process just got forked, after parallelism has already been used. Disabling parallelism to avoid deadlocks...\n",
      "To disable this warning, you can either:\n",
      "\t- Avoid using `tokenizers` before the fork if possible\n",
      "\t- Explicitly set the environment variable TOKENIZERS_PARALLELISM=(true | false)\n",
      "Archive:  gvc_small.zip?dl=0\n",
      "   creating: gvc_small/\n",
      "   creating: gvc_small/bert/\n",
      "  inflating: gvc_small/bert/config.json  \n",
      "  inflating: gvc_small/bert/pytorch_model.bin  \n",
      "  inflating: gvc_small/bert/tokenizer_config.json  \n",
      "  inflating: gvc_small/bert/special_tokens_map.json  \n",
      "  inflating: gvc_small/bert/added_tokens.json  \n",
      "  inflating: gvc_small/bert/vocab.json  \n",
      "  inflating: gvc_small/bert/merges.txt  \n",
      "  inflating: gvc_small/bert/tokenizer.json  \n",
      "  inflating: gvc_small/linear.chkpt  \n"
     ]
    }
   ],
   "source": [
    "!unzip gvc_small.zip\\?dl\\=0"
   ]
  },
  {
   "cell_type": "code",
   "execution_count": 8,
   "id": "e6622b6a",
   "metadata": {},
   "outputs": [
    {
     "name": "stderr",
     "output_type": "stream",
     "text": [
      "Predicting: 100%|████████████████████████████████████████████████████████████████████████████████████████████████████████████████████████████████████████████████████████████████████████████████████████████████████████████████████████████████████████████████████████████| 147/147 [02:26<00:00,  1.00it/s]\n"
     ]
    },
    {
     "name": "stdout",
     "output_type": "stream",
     "text": [
      "Test accuracy: tensor(0.8683)\n",
      "Test precision: tensor(0.8835)\n",
      "Test recall: tensor(0.6103)\n",
      "Test f1: tensor(0.7219)\n",
      "2633 6768 226\n",
      "gvc test\n",
      "& lh && 87.0  & 89.6 & 88.3 && 82.3 & 67.9 & 74.4 && 62.0 & 55.2 & 58.4 && 77.6 & 57.8 & 66.2 && 73.7 \\\n"
     ]
    }
   ],
   "source": [
    "# LH + D small\n",
    "\n",
    "heu='lh'\n",
    "dpos_path =  './gvc_small/'\n",
    "save_dpos_scores(GVC, TEST, dpos_path, heu=heu, text_key='bert_sentence', max_sentence_len=512, long=False)\n",
    "dpos = get_dpos(GVC, heu, TEST)\n",
    "predict_with_dpos(GVC, TEST, dpos, heu=heu)"
   ]
  },
  {
   "cell_type": "code",
   "execution_count": 10,
   "id": "6cf1624d",
   "metadata": {},
   "outputs": [
    {
     "name": "stderr",
     "output_type": "stream",
     "text": [
      "Predicting: 100%|████████████████████████████████████████████████████████████████████████████████████████████████████████████████████████████████████████████████████████████████████████████████████████████████████████████████████████████████████████████████████████████| 130/130 [02:09<00:00,  1.00it/s]\n"
     ]
    },
    {
     "name": "stdout",
     "output_type": "stream",
     "text": [
      "Test accuracy: tensor(0.8290)\n",
      "Test precision: tensor(0.8853)\n",
      "Test recall: tensor(0.5762)\n",
      "Test f1: tensor(0.6981)\n",
      "2841 5442 128\n",
      "gvc test\n",
      "& lh_oracle && 89.1  & 90.2 & 89.6 && 85.0 & 68.0 & 75.6 && 62.7 & 59.6 & 61.1 && 80.6 & 59.5 & 68.5 && 75.4 \\\n"
     ]
    }
   ],
   "source": [
    "# LH_Oracle + D small\n",
    "\n",
    "heu='lh_oracle'\n",
    "dpos_path =  './gvc_small/'\n",
    "save_dpos_scores(GVC, TEST, dpos_path, heu=heu, text_key='bert_sentence', max_sentence_len=512, long=False)\n",
    "dpos = get_dpos(GVC, heu, TEST)\n",
    "predict_with_dpos(GVC, TEST, dpos, heu=heu)"
   ]
  },
  {
   "cell_type": "code",
   "execution_count": null,
   "id": "75206ecd",
   "metadata": {},
   "outputs": [],
   "source": []
  }
 ],
 "metadata": {
  "kernelspec": {
   "display_name": "Python 3 (ipykernel)",
   "language": "python",
   "name": "python3"
  },
  "language_info": {
   "codemirror_mode": {
    "name": "ipython",
    "version": 3
   },
   "file_extension": ".py",
   "mimetype": "text/x-python",
   "name": "python",
   "nbconvert_exporter": "python",
   "pygments_lexer": "ipython3",
   "version": "3.9.13"
  }
 },
 "nbformat": 4,
 "nbformat_minor": 5
}
