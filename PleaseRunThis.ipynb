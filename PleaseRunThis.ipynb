{
 "cells": [
  {
   "cell_type": "markdown",
   "id": "adc5fa5f",
   "metadata": {},
   "source": [
    "# End-to-end Experiment for the ACL paper\n",
    "\n",
    "credits to https://github.com/aviclu/CDLM for code"
   ]
  },
  {
   "cell_type": "markdown",
   "id": "2efdc3ed",
   "metadata": {},
   "source": [
    "## Heuristic"
   ]
  },
  {
   "cell_type": "code",
   "execution_count": 1,
   "id": "e33ceadc",
   "metadata": {},
   "outputs": [],
   "source": [
    "from heuristic import lh, lh_oracle\n",
    "from helper import DEV, TEST"
   ]
  },
  {
   "cell_type": "code",
   "execution_count": 2,
   "id": "7c92040e",
   "metadata": {},
   "outputs": [],
   "source": [
    "ECB='ecb'\n",
    "GVC='gvc'"
   ]
  },
  {
   "cell_type": "markdown",
   "id": "07367cea",
   "metadata": {},
   "source": [
    "### LH - ECB"
   ]
  },
  {
   "cell_type": "code",
   "execution_count": 7,
   "id": "6e5ae075",
   "metadata": {},
   "outputs": [
    {
     "name": "stdout",
     "output_type": "stream",
     "text": [
      "train\n"
     ]
    },
    {
     "name": "stderr",
     "output_type": "stream",
     "text": [
      "Generating Similarities: 100%|██████████| 341706/341706 [00:01<00:00, 253982.03it/s]\n"
     ]
    },
    {
     "name": "stdout",
     "output_type": "stream",
     "text": [
      "true positives: 13065\n",
      "false positives: 14863\n",
      "true negatives: 311632\n",
      "false negatives: 2146\n",
      "\n",
      "After transitive closure\n",
      "true positives: 15189\n",
      "false positives: 65358\n",
      "true negatives: 261137\n",
      "false negatives: 22\n",
      "dev\n"
     ]
    },
    {
     "name": "stderr",
     "output_type": "stream",
     "text": [
      "Generating Similarities: 100%|██████████| 100784/100784 [00:00<00:00, 256820.75it/s]\n"
     ]
    },
    {
     "name": "stdout",
     "output_type": "stream",
     "text": [
      "true positives: 3540\n",
      "false positives: 4929\n",
      "true negatives: 89972\n",
      "false negatives: 2343\n",
      "\n",
      "After transitive closure\n",
      "true positives: 3998\n",
      "false positives: 11363\n",
      "true negatives: 83538\n",
      "false negatives: 1885\n",
      "test\n"
     ]
    },
    {
     "name": "stderr",
     "output_type": "stream",
     "text": [
      "Generating Similarities: 100%|██████████| 93878/93878 [00:00<00:00, 241905.89it/s]\n"
     ]
    },
    {
     "name": "stdout",
     "output_type": "stream",
     "text": [
      "true positives: 3517\n",
      "false positives: 2058\n",
      "true negatives: 85222\n",
      "false negatives: 3081\n",
      "\n",
      "After transitive closure\n",
      "true positives: 4326\n",
      "false positives: 4676\n",
      "true negatives: 82604\n",
      "false negatives: 2272\n"
     ]
    }
   ],
   "source": [
    "lh(ECB, threshold=0.05)"
   ]
  },
  {
   "cell_type": "markdown",
   "id": "180db81a",
   "metadata": {},
   "source": [
    "### LH - GVC"
   ]
  },
  {
   "cell_type": "code",
   "execution_count": 8,
   "id": "decf0850",
   "metadata": {},
   "outputs": [
    {
     "name": "stdout",
     "output_type": "stream",
     "text": [
      "train\n"
     ]
    },
    {
     "name": "stderr",
     "output_type": "stream",
     "text": [
      "Generating Similarities: 100%|██████████| 112354/112354 [00:00<00:00, 176761.16it/s]\n"
     ]
    },
    {
     "name": "stdout",
     "output_type": "stream",
     "text": [
      "true positives: 17950\n",
      "false positives: 35750\n",
      "true negatives: 49768\n",
      "false negatives: 8886\n",
      "\n",
      "After transitive closure\n",
      "true positives: 26458\n",
      "false positives: 82656\n",
      "true negatives: 2862\n",
      "false negatives: 378\n",
      "dev\n"
     ]
    },
    {
     "name": "stderr",
     "output_type": "stream",
     "text": [
      "Generating Similarities: 100%|██████████| 16538/16538 [00:00<00:00, 212457.96it/s]\n"
     ]
    },
    {
     "name": "stdout",
     "output_type": "stream",
     "text": [
      "true positives: 2585\n",
      "false positives: 6192\n",
      "true negatives: 6646\n",
      "false negatives: 1115\n",
      "\n",
      "After transitive closure\n",
      "true positives: 3633\n",
      "false positives: 12353\n",
      "true negatives: 485\n",
      "false negatives: 67\n",
      "test\n"
     ]
    },
    {
     "name": "stderr",
     "output_type": "stream",
     "text": [
      "Generating Similarities: 100%|██████████| 18961/18961 [00:00<00:00, 211631.62it/s]\n"
     ]
    },
    {
     "name": "stdout",
     "output_type": "stream",
     "text": [
      "true positives: 2633\n",
      "false positives: 6768\n",
      "true negatives: 8080\n",
      "false negatives: 1480\n",
      "\n",
      "After transitive closure\n",
      "true positives: 3887\n",
      "false positives: 13917\n",
      "true negatives: 931\n",
      "false negatives: 226\n"
     ]
    }
   ],
   "source": [
    "lh(GVC, threshold=0.05)"
   ]
  },
  {
   "cell_type": "markdown",
   "id": "9d5cad2b",
   "metadata": {},
   "source": [
    "### LH_ORACLE - ECB, GVC"
   ]
  },
  {
   "cell_type": "code",
   "execution_count": 9,
   "id": "63898ab4",
   "metadata": {},
   "outputs": [
    {
     "name": "stdout",
     "output_type": "stream",
     "text": [
      "------- train --------\n"
     ]
    },
    {
     "name": "stderr",
     "output_type": "stream",
     "text": [
      "Generating Similarities: 100%|██████████| 341706/341706 [00:01<00:00, 249502.48it/s]\n"
     ]
    },
    {
     "name": "stdout",
     "output_type": "stream",
     "text": [
      "true positives: 13065\n",
      "false positives: 14863\n",
      "true negatives: 311632\n",
      "false negatives: 2146\n",
      "\n",
      "After transitive closure\n",
      "true positives: 15189\n",
      "false positives: 65358\n",
      "true negatives: 261137\n",
      "false negatives: 22\n",
      "------- dev --------\n"
     ]
    },
    {
     "name": "stderr",
     "output_type": "stream",
     "text": [
      "Generating Similarities: 100%|██████████| 100784/100784 [00:00<00:00, 264102.81it/s]\n"
     ]
    },
    {
     "name": "stdout",
     "output_type": "stream",
     "text": [
      "true positives: 5323\n",
      "false positives: 5614\n",
      "true negatives: 89287\n",
      "false negatives: 560\n",
      "\n",
      "After transitive closure\n",
      "true positives: 5870\n",
      "false positives: 15379\n",
      "true negatives: 79522\n",
      "false negatives: 13\n",
      "------- test --------\n"
     ]
    },
    {
     "name": "stderr",
     "output_type": "stream",
     "text": [
      "Generating Similarities: 100%|██████████| 93878/93878 [00:00<00:00, 247634.13it/s]\n"
     ]
    },
    {
     "name": "stdout",
     "output_type": "stream",
     "text": [
      "true positives: 5391\n",
      "false positives: 2397\n",
      "true negatives: 84883\n",
      "false negatives: 1207\n",
      "\n",
      "After transitive closure\n",
      "true positives: 6562\n",
      "false positives: 8833\n",
      "true negatives: 78447\n",
      "false negatives: 36\n",
      "------- train --------\n"
     ]
    },
    {
     "name": "stderr",
     "output_type": "stream",
     "text": [
      "Generating Similarities: 100%|██████████| 112354/112354 [00:00<00:00, 173674.31it/s]\n"
     ]
    },
    {
     "name": "stdout",
     "output_type": "stream",
     "text": [
      "true positives: 17950\n",
      "false positives: 35750\n",
      "true negatives: 49768\n",
      "false negatives: 8886\n",
      "\n",
      "After transitive closure\n",
      "true positives: 26458\n",
      "false positives: 82656\n",
      "true negatives: 2862\n",
      "false negatives: 378\n",
      "------- dev --------\n"
     ]
    },
    {
     "name": "stderr",
     "output_type": "stream",
     "text": [
      "Generating Similarities: 100%|██████████| 16538/16538 [00:00<00:00, 214584.15it/s]"
     ]
    },
    {
     "name": "stdout",
     "output_type": "stream",
     "text": [
      "true positives: 2675\n",
      "false positives: 5403\n",
      "true negatives: 7435\n",
      "false negatives: 1025\n"
     ]
    },
    {
     "name": "stderr",
     "output_type": "stream",
     "text": [
      "\n"
     ]
    },
    {
     "name": "stdout",
     "output_type": "stream",
     "text": [
      "\n",
      "After transitive closure\n",
      "true positives: 3643\n",
      "false positives: 11869\n",
      "true negatives: 969\n",
      "false negatives: 57\n",
      "------- test --------\n"
     ]
    },
    {
     "name": "stderr",
     "output_type": "stream",
     "text": [
      "Generating Similarities: 100%|██████████| 18961/18961 [00:00<00:00, 210852.81it/s]"
     ]
    },
    {
     "name": "stdout",
     "output_type": "stream",
     "text": [
      "true positives: 2841\n",
      "false positives: 5442\n",
      "true negatives: 9406\n",
      "false negatives: 1272\n"
     ]
    },
    {
     "name": "stderr",
     "output_type": "stream",
     "text": [
      "\n"
     ]
    },
    {
     "name": "stdout",
     "output_type": "stream",
     "text": [
      "\n",
      "After transitive closure\n",
      "true positives: 3985\n",
      "false positives: 13892\n",
      "true negatives: 956\n",
      "false negatives: 128\n"
     ]
    }
   ],
   "source": [
    "lh_oracle(ECB, threshold=0.05)\n",
    "lh_oracle(GVC, threshold=0.05)"
   ]
  },
  {
   "cell_type": "markdown",
   "id": "821c9832",
   "metadata": {},
   "source": [
    "## Training"
   ]
  },
  {
   "cell_type": "code",
   "execution_count": 5,
   "id": "20840572",
   "metadata": {},
   "outputs": [],
   "source": [
    "from training import train_dpos"
   ]
  },
  {
   "cell_type": "markdown",
   "id": "9bad1c1b",
   "metadata": {},
   "source": [
    "### D-Small"
   ]
  },
  {
   "cell_type": "code",
   "execution_count": null,
   "id": "44072ce6",
   "metadata": {},
   "outputs": [],
   "source": [
    "#  batch_size=20, n_iters=10, lr_lm(Language model)=0.000001, lr_class(classifier)=0.0001\n",
    "#  max_sequence_length = 512 \n",
    "train_dpos(ECB, model_name='roberta-base')\n",
    "train_dpos(GVC, model_name='roberta-base')"
   ]
  },
  {
   "cell_type": "markdown",
   "id": "3c29dfd4",
   "metadata": {},
   "source": [
    "### D-Long"
   ]
  },
  {
   "cell_type": "code",
   "execution_count": null,
   "id": "83f007db",
   "metadata": {},
   "outputs": [],
   "source": [
    "#  batch_size=20, n_iters=10, lr_lm(Language model)=0.000001, lr_class(classifier)=0.0001\n",
    "#  max_sequence_length = 1024 \n",
    "train_dpos(ECB, model_name='allenai/longformer-base-4096')\n",
    "train_dpos(GVC, model_name='allenai/longformer-base-4096')"
   ]
  },
  {
   "cell_type": "markdown",
   "id": "e9ce9aa9",
   "metadata": {},
   "source": [
    "## Prediction"
   ]
  },
  {
   "cell_type": "code",
   "execution_count": 3,
   "id": "6ef678da",
   "metadata": {},
   "outputs": [],
   "source": [
    "from helper import DEV, TEST\n",
    "from prediction import predict"
   ]
  },
  {
   "cell_type": "markdown",
   "id": "b1a7a766",
   "metadata": {},
   "source": [
    "### Baselines"
   ]
  },
  {
   "cell_type": "code",
   "execution_count": 12,
   "id": "b7ab9856",
   "metadata": {},
   "outputs": [
    {
     "name": "stdout",
     "output_type": "stream",
     "text": [
      "3517 2058 2272\n",
      "ecb test\n",
      "& lh && 85.1  & 75.6 & 80.1 && 83.2 & 72.2 & 77.3 && 66.2 & 78.1 & 71.7 && 67.3 & 62.6 & 64.9 && 76.4 \\\n"
     ]
    }
   ],
   "source": [
    "## LH predict ecb\n",
    "predict(ECB, TEST, heu='lh')"
   ]
  },
  {
   "cell_type": "code",
   "execution_count": 13,
   "id": "a80c5300",
   "metadata": {},
   "outputs": [
    {
     "name": "stdout",
     "output_type": "stream",
     "text": [
      "5391 2397 36\n",
      "ecb test\n",
      "& lh_oracle && 99.1  & 79.6 & 88.3 && 97.9 & 67.7 & 80.0 && 65.9 & 93.7 & 77.4 && 85.1 & 63.8 & 72.9 && 81.9 \\\n"
     ]
    }
   ],
   "source": [
    "## LH_ORACLE predict ecb\n",
    "predict(ECB, TEST, heu='lh_oracle')"
   ]
  },
  {
   "cell_type": "code",
   "execution_count": 14,
   "id": "781c0037",
   "metadata": {},
   "outputs": [
    {
     "name": "stdout",
     "output_type": "stream",
     "text": [
      "2633 6768 226\n",
      "gvc test\n",
      "& lh && 94.8  & 82.0 & 87.9 && 90.1 & 28.5 & 43.3 && 16.3 & 47.8 & 24.3 && 85.1 & 23.9 & 37.4 && 51.8 \\\n"
     ]
    }
   ],
   "source": [
    "## LH predict gvc\n",
    "predict(GVC, TEST, heu='lh')"
   ]
  },
  {
   "cell_type": "code",
   "execution_count": 15,
   "id": "711b92fb",
   "metadata": {},
   "outputs": [
    {
     "name": "stdout",
     "output_type": "stream",
     "text": [
      "2841 5442 128\n",
      "gvc test\n",
      "& lh_oracle && 95.2  & 82.3 & 88.3 && 91.2 & 29.1 & 44.1 && 18.6 & 54.7 & 27.8 && 86.4 & 24.9 & 38.6 && 53.4 \\\n"
     ]
    }
   ],
   "source": [
    "## LH_ORACLE predict gvc\n",
    "predict(GVC, TEST, heu='lh_oracle')"
   ]
  },
  {
   "cell_type": "markdown",
   "id": "102d18cb",
   "metadata": {},
   "source": [
    "### Running LH + D_small"
   ]
  },
  {
   "cell_type": "code",
   "execution_count": 4,
   "id": "4c1930d5",
   "metadata": {},
   "outputs": [],
   "source": [
    "from prediction import predict_with_dpos, save_dpos_scores, get_dpos"
   ]
  },
  {
   "cell_type": "code",
   "execution_count": 6,
   "id": "6888abb1",
   "metadata": {},
   "outputs": [
    {
     "name": "stdout",
     "output_type": "stream",
     "text": [
      "--2023-01-19 15:44:45--  https://www.dropbox.com/s/rgvj73vt6wryhn6/ecb_small.zip?dl=0\n",
      "Resolving www.dropbox.com (www.dropbox.com)... 162.125.8.18, 2620:100:601b:18::a27d:812\n",
      "Connecting to www.dropbox.com (www.dropbox.com)|162.125.8.18|:443... connected.\n",
      "HTTP request sent, awaiting response... 302 Found\n",
      "Location: /s/raw/rgvj73vt6wryhn6/ecb_small.zip [following]\n",
      "--2023-01-19 15:44:45--  https://www.dropbox.com/s/raw/rgvj73vt6wryhn6/ecb_small.zip\n",
      "Reusing existing connection to www.dropbox.com:443.\n",
      "HTTP request sent, awaiting response... 302 Found\n",
      "Location: https://uc31666f55954794d2de00a19d86.dl.dropboxusercontent.com/cd/0/inline/B04JLe2uPHliaauIDrSikDOEW71lm8lP10erTBGHW6vT05Ja2zVy6f7dUGOLWysxp1M6LQ4KlGXw2qdaVwFkPeokTs0-tYQXdytMEa88Gz70TJrnRRsNOAzC9voc8OszdLnrvBZaAJpJNoEbWThuVraCShsLHWHwDzY7YhjhvFgtTA/file# [following]\n",
      "--2023-01-19 15:44:45--  https://uc31666f55954794d2de00a19d86.dl.dropboxusercontent.com/cd/0/inline/B04JLe2uPHliaauIDrSikDOEW71lm8lP10erTBGHW6vT05Ja2zVy6f7dUGOLWysxp1M6LQ4KlGXw2qdaVwFkPeokTs0-tYQXdytMEa88Gz70TJrnRRsNOAzC9voc8OszdLnrvBZaAJpJNoEbWThuVraCShsLHWHwDzY7YhjhvFgtTA/file\n",
      "Resolving uc31666f55954794d2de00a19d86.dl.dropboxusercontent.com (uc31666f55954794d2de00a19d86.dl.dropboxusercontent.com)... 162.125.8.15, 2620:100:601b:15::a27d:80f\n",
      "Connecting to uc31666f55954794d2de00a19d86.dl.dropboxusercontent.com (uc31666f55954794d2de00a19d86.dl.dropboxusercontent.com)|162.125.8.15|:443... connected.\n",
      "HTTP request sent, awaiting response... 302 Found\n",
      "Location: /cd/0/inline2/B04ho1L44Lkvs3IEwtXeMU9Xsr6tM5wMQePcbReFo5hfxPSQ1SQFqnliRc6TvGvERpkHiI5Bmm0CQnKBHA3vELeobYyyckqp9ewFQ6jyE6swc41dRnXdijLESxbGenMDqJz9nl0Yqdz_Bb0Etln9niFI1LGzVQF9eV3V3lKT2pX6MDrD0com795aXUy-tfSro7IJ29IbHL82hlURmW2Kgo-qpOni2_smjLldKEMBEKCRP63DIfPT4bVivse4iF420sQO7I55kMTCSWEJ3yGJ2ng84_nq1PsrDdgQbq-XI9oQNzyYJAwtOWqs1-po4NKKUb2Mcj5ndnV-6o4mnMmiN7Mqbe1mtJ_aSYTPsICRrNQ2hI5Cj4s7_0JVjEEKbwClbSjbukEez2Uqmd_NUqT6_paUuUI88WU8L7yUhrPX0zchRQ/file [following]\n",
      "--2023-01-19 15:44:46--  https://uc31666f55954794d2de00a19d86.dl.dropboxusercontent.com/cd/0/inline2/B04ho1L44Lkvs3IEwtXeMU9Xsr6tM5wMQePcbReFo5hfxPSQ1SQFqnliRc6TvGvERpkHiI5Bmm0CQnKBHA3vELeobYyyckqp9ewFQ6jyE6swc41dRnXdijLESxbGenMDqJz9nl0Yqdz_Bb0Etln9niFI1LGzVQF9eV3V3lKT2pX6MDrD0com795aXUy-tfSro7IJ29IbHL82hlURmW2Kgo-qpOni2_smjLldKEMBEKCRP63DIfPT4bVivse4iF420sQO7I55kMTCSWEJ3yGJ2ng84_nq1PsrDdgQbq-XI9oQNzyYJAwtOWqs1-po4NKKUb2Mcj5ndnV-6o4mnMmiN7Mqbe1mtJ_aSYTPsICRrNQ2hI5Cj4s7_0JVjEEKbwClbSjbukEez2Uqmd_NUqT6_paUuUI88WU8L7yUhrPX0zchRQ/file\n",
      "Reusing existing connection to uc31666f55954794d2de00a19d86.dl.dropboxusercontent.com:443.\n",
      "HTTP request sent, awaiting response... 200 OK\n",
      "Length: 426860448 (407M) [application/zip]\n",
      "Saving to: ‘ecb_small.zip?dl=0.2’\n",
      "\n",
      "ecb_small.zip?dl=0. 100%[===================>] 407.08M  79.7MB/s    in 5.6s    \n",
      "\n",
      "2023-01-19 15:44:53 (73.2 MB/s) - ‘ecb_small.zip?dl=0.2’ saved [426860448/426860448]\n",
      "\n"
     ]
    }
   ],
   "source": [
    "# download ecb model\n",
    "\n",
    "! wget https://www.dropbox.com/s/rgvj73vt6wryhn6/ecb_small.zip?dl=0"
   ]
  },
  {
   "cell_type": "code",
   "execution_count": null,
   "id": "8520807a",
   "metadata": {},
   "outputs": [],
   "source": [
    "!unzip ecb_small.zip\\?dl\\=0 \n",
    " "
   ]
  },
  {
   "cell_type": "code",
   "execution_count": 5,
   "id": "61e6f472",
   "metadata": {},
   "outputs": [
    {
     "name": "stderr",
     "output_type": "stream",
     "text": [
      "Predicting: 100%|██████████| 88/88 [01:26<00:00,  1.02it/s]\n"
     ]
    },
    {
     "name": "stdout",
     "output_type": "stream",
     "text": [
      "Test accuracy: tensor(0.6450)\n",
      "Test precision: tensor(0.8792)\n",
      "Test recall: tensor(0.5070)\n",
      "Test f1: tensor(0.6431)\n",
      "3517 2058 2272\n",
      "ecb test\n",
      "& lh && 76.2  & 86.9 & 81.2 && 77.8 & 85.7 & 81.6 && 83.9 & 73.0 & 78.1 && 68.7 & 71.5 & 70.1 && 80.3 \\\n"
     ]
    }
   ],
   "source": [
    "heu ='lh'\n",
    "dpos_path =  './ecb_small/'\n",
    "save_dpos_scores(ECB, TEST, dpos_path, heu=heu, text_key='bert_sentence', max_sentence_len=512, long=False)\n",
    "dpos = get_dpos(ECB, heu, TEST)\n",
    "predict_with_dpos(ECB, TEST, dpos, heu=heu)"
   ]
  },
  {
   "cell_type": "code",
   "execution_count": 6,
   "id": "3fad28ba",
   "metadata": {},
   "outputs": [
    {
     "name": "stderr",
     "output_type": "stream",
     "text": [
      "Predicting: 100%|██████████| 122/122 [02:01<00:00,  1.00it/s]\n"
     ]
    },
    {
     "name": "stdout",
     "output_type": "stream",
     "text": [
      "Test accuracy: tensor(0.5678)\n",
      "Test precision: tensor(0.8860)\n",
      "Test recall: tensor(0.4311)\n",
      "Test f1: tensor(0.5800)\n",
      "5391 2397 36\n",
      "ecb test\n",
      "& lh_oracle && 89.8  & 87.6 & 88.7 && 90.7 & 80.2 & 85.1 && 82.5 & 85.1 & 83.8 && 83.3 & 72.2 & 77.3 && 85.9 \\\n"
     ]
    }
   ],
   "source": [
    "# LH_ORACLE + D small\n",
    "heu='lh_oracle'\n",
    "dpos_path =  './ecb_small/'\n",
    "save_dpos_scores(ECB, TEST, dpos_path, heu=heu, text_key='bert_sentence', max_sentence_len=512, long=False)\n",
    "dpos = get_dpos(ECB, heu, TEST)\n",
    "predict_with_dpos(ECB, TEST, dpos, heu=heu)"
   ]
  },
  {
   "cell_type": "markdown",
   "id": "340a7e6f",
   "metadata": {},
   "source": [
    "### D Long experiments"
   ]
  },
  {
   "cell_type": "code",
   "execution_count": 21,
   "id": "34d1bc21",
   "metadata": {},
   "outputs": [
    {
     "name": "stdout",
     "output_type": "stream",
     "text": [
      "--2023-01-19 15:11:23--  https://www.dropbox.com/s/8u1xzdavoyk2c4o/ecb_long.zip?dl=0\n",
      "Resolving www.dropbox.com (www.dropbox.com)... 162.125.8.18, 2620:100:601b:18::a27d:812\n",
      "Connecting to www.dropbox.com (www.dropbox.com)|162.125.8.18|:443... connected.\n",
      "HTTP request sent, awaiting response... 302 Found\n",
      "Location: /s/raw/8u1xzdavoyk2c4o/ecb_long.zip [following]\n",
      "--2023-01-19 15:11:24--  https://www.dropbox.com/s/raw/8u1xzdavoyk2c4o/ecb_long.zip\n",
      "Reusing existing connection to www.dropbox.com:443.\n",
      "HTTP request sent, awaiting response... 302 Found\n",
      "Location: https://uc7811c53df91bbfb485a296ff20.dl.dropboxusercontent.com/cd/0/inline/B042UeW8eM7D0zD2guvQuYaPiKIUj1JfFHzjSxzS96-UN54viR5aaBUTgK95uoB67gUDD5vo9Z68z74Iz24euRfpPJJMkuHpyxOXUAy4ys1kWrbWXG4hK0SA6C8XUgX-5P6nTy4R77ZDOr3HkBGi9OqyZ6UgwgVYHjPkThFzGvJ7WA/file# [following]\n",
      "--2023-01-19 15:11:24--  https://uc7811c53df91bbfb485a296ff20.dl.dropboxusercontent.com/cd/0/inline/B042UeW8eM7D0zD2guvQuYaPiKIUj1JfFHzjSxzS96-UN54viR5aaBUTgK95uoB67gUDD5vo9Z68z74Iz24euRfpPJJMkuHpyxOXUAy4ys1kWrbWXG4hK0SA6C8XUgX-5P6nTy4R77ZDOr3HkBGi9OqyZ6UgwgVYHjPkThFzGvJ7WA/file\n",
      "Resolving uc7811c53df91bbfb485a296ff20.dl.dropboxusercontent.com (uc7811c53df91bbfb485a296ff20.dl.dropboxusercontent.com)... 162.125.8.15, 2620:100:601b:15::a27d:80f\n",
      "Connecting to uc7811c53df91bbfb485a296ff20.dl.dropboxusercontent.com (uc7811c53df91bbfb485a296ff20.dl.dropboxusercontent.com)|162.125.8.15|:443... connected.\n",
      "HTTP request sent, awaiting response... 302 Found\n",
      "Location: /cd/0/inline2/B05DHkmtOlPyDeO-Pt_oLRJWpWYLZ6k6DZZyIxhVMSAYS98IZX0I0pid2INzcINlIzIhmNHpk8eOmB3p00Id5Z_bujIqst89rmNEJxfxllhyPjCKQUm2TF_Z__PedX8i0tYMQ24Em2wUXU5cl1UsSlk_ltu8wnRy7UAsY8gFRDg6mviOkHkszHDWxu_idzNb-3Kstq5oU0MifYhWn0QBbKUK0aPICDQbqbFHLfzIGVDpK916jGgSuxhc1Jb0wzLs98xQ7EeVqTNypCeLBMZ1RVAeyndfpzp2vLfDbSAgDv-CjdayfMBaURBteKLd-k6cOKCkbms8qZAdcB7cKXYToClKrsuG3UehX_IXmt3-87d6dKcKvt0PyMvcXLWkrKNz5PDTBQcJQN4n9o6RcfLG_nfwBktCp1FvTGJkjlTtaeSW3w/file [following]\n",
      "--2023-01-19 15:11:25--  https://uc7811c53df91bbfb485a296ff20.dl.dropboxusercontent.com/cd/0/inline2/B05DHkmtOlPyDeO-Pt_oLRJWpWYLZ6k6DZZyIxhVMSAYS98IZX0I0pid2INzcINlIzIhmNHpk8eOmB3p00Id5Z_bujIqst89rmNEJxfxllhyPjCKQUm2TF_Z__PedX8i0tYMQ24Em2wUXU5cl1UsSlk_ltu8wnRy7UAsY8gFRDg6mviOkHkszHDWxu_idzNb-3Kstq5oU0MifYhWn0QBbKUK0aPICDQbqbFHLfzIGVDpK916jGgSuxhc1Jb0wzLs98xQ7EeVqTNypCeLBMZ1RVAeyndfpzp2vLfDbSAgDv-CjdayfMBaURBteKLd-k6cOKCkbms8qZAdcB7cKXYToClKrsuG3UehX_IXmt3-87d6dKcKvt0PyMvcXLWkrKNz5PDTBQcJQN4n9o6RcfLG_nfwBktCp1FvTGJkjlTtaeSW3w/file\n",
      "Reusing existing connection to uc7811c53df91bbfb485a296ff20.dl.dropboxusercontent.com:443.\n",
      "HTTP request sent, awaiting response... 200 OK\n",
      "Length: 494273189 (471M) [application/zip]\n",
      "Saving to: ‘ecb_long.zip?dl=0’\n",
      "\n",
      "ecb_long.zip?dl=0   100%[===================>] 471.38M  80.6MB/s    in 6.0s    \n",
      "\n",
      "2023-01-19 15:11:32 (77.9 MB/s) - ‘ecb_long.zip?dl=0’ saved [494273189/494273189]\n",
      "\n"
     ]
    }
   ],
   "source": [
    "# LH + D long\n",
    "\n",
    "!wget https://www.dropbox.com/s/8u1xzdavoyk2c4o/ecb_long.zip?dl=0"
   ]
  },
  {
   "cell_type": "code",
   "execution_count": 22,
   "id": "502130c4",
   "metadata": {},
   "outputs": [
    {
     "name": "stdout",
     "output_type": "stream",
     "text": [
      "Archive:  ecb_long.zip?dl=0\n",
      "   creating: ecb_long/\n",
      "   creating: ecb_long/bert/\n",
      "  inflating: ecb_long/bert/tokenizer.json  \n",
      "  inflating: ecb_long/bert/special_tokens_map.json  \n",
      "  inflating: ecb_long/bert/added_tokens.json  \n",
      "  inflating: ecb_long/bert/merges.txt  \n",
      "  inflating: ecb_long/bert/config.json  \n",
      "  inflating: ecb_long/bert/pytorch_model.bin  \n",
      "  inflating: ecb_long/bert/tokenizer_config.json  \n",
      "  inflating: ecb_long/bert/vocab.json  \n",
      "  inflating: ecb_long/linear.chkpt   \n"
     ]
    }
   ],
   "source": [
    "!unzip ecb_long.zip\\?dl=0"
   ]
  },
  {
   "cell_type": "code",
   "execution_count": 23,
   "id": "539a857d",
   "metadata": {
    "scrolled": true
   },
   "outputs": [
    {
     "name": "stderr",
     "output_type": "stream",
     "text": [
      "Predicting: 100%|██████████| 88/88 [04:50<00:00,  3.31s/it]\n"
     ]
    },
    {
     "name": "stdout",
     "output_type": "stream",
     "text": [
      "Test accuracy: tensor(0.7713)\n",
      "Test precision: tensor(0.7983)\n",
      "Test recall: tensor(0.8530)\n",
      "Test f1: tensor(0.8247)\n",
      "3517 2058 2272\n",
      "ecb test\n",
      "& lh && 80.3  & 87.2 & 83.6 && 79.7 & 85.3 & 82.4 && 82.9 & 75.7 & 79.1 && 70.5 & 73.4 & 71.9 && 81.7 \\\n"
     ]
    }
   ],
   "source": [
    "# LH + D long ECB\n",
    "\n",
    "heu='lh'\n",
    "dpos_path =  './ecb_long/'\n",
    "save_dpos_scores(ECB, TEST, dpos_path, heu=heu, text_key='bert_doc', max_sentence_len=1024, long=True)\n",
    "dpos = get_dpos(ECB, heu, TEST)\n",
    "predict_with_dpos(ECB, TEST, dpos, heu=heu)"
   ]
  },
  {
   "cell_type": "code",
   "execution_count": 24,
   "id": "4e0900d5",
   "metadata": {},
   "outputs": [
    {
     "name": "stderr",
     "output_type": "stream",
     "text": [
      "Predicting: 100%|██████████| 122/122 [06:47<00:00,  3.34s/it]\n"
     ]
    },
    {
     "name": "stdout",
     "output_type": "stream",
     "text": [
      "Test accuracy: tensor(0.7209)\n",
      "Test precision: tensor(0.8182)\n",
      "Test recall: tensor(0.7672)\n",
      "Test f1: tensor(0.7919)\n",
      "5391 2397 36\n",
      "ecb test\n",
      "& lh_oracle && 93.1  & 88.5 & 90.8 && 93.6 & 80.7 & 86.7 && 82.0 & 87.5 & 84.7 && 86.1 & 73.7 & 79.4 && 87.4 \\\n"
     ]
    }
   ],
   "source": [
    "# LH_Oracle + D long ECB\n",
    "\n",
    "heu='lh_oracle'\n",
    "dpos_path =  './ecb_long/'\n",
    "save_dpos_scores(ECB, TEST, dpos_path, heu=heu, text_key='bert_doc', max_sentence_len=1024, long=True)\n",
    "dpos = get_dpos(ECB, heu, TEST)\n",
    "predict_with_dpos(ECB, TEST, dpos, heu=heu)"
   ]
  },
  {
   "cell_type": "code",
   "execution_count": 2,
   "id": "a125a6b6",
   "metadata": {},
   "outputs": [
    {
     "name": "stdout",
     "output_type": "stream",
     "text": [
      "--2023-01-19 14:30:52--  https://www.dropbox.com/s/rfj2yb4pm9l61mq/gvc_long.zip?dl=0\n",
      "Resolving www.dropbox.com (www.dropbox.com)... 162.125.8.18, 2620:100:601b:18::a27d:812\n",
      "Connecting to www.dropbox.com (www.dropbox.com)|162.125.8.18|:443... connected.\n",
      "HTTP request sent, awaiting response... 302 Found\n",
      "Location: /s/raw/rfj2yb4pm9l61mq/gvc_long.zip [following]\n",
      "--2023-01-19 14:30:53--  https://www.dropbox.com/s/raw/rfj2yb4pm9l61mq/gvc_long.zip\n",
      "Reusing existing connection to www.dropbox.com:443.\n",
      "HTTP request sent, awaiting response... 302 Found\n",
      "Location: https://uc4370ce04aa11c599edc715ddc2.dl.dropboxusercontent.com/cd/0/inline/B04JuGlyrWzpZGFo9u9Imjrnu-aTpN9Lz7TT-1q5Vt06pSIKSu6ERJLhv8_k0WW1_GAubBx4-U7WdmYWstOLXWB_0wWat7KLo737hOEqXj5-qTlwJm3lMnEBw1NsFrcjaLbHU-osU_kB9s-2axwjKX0SrFYzzoLTET962OAEYxtMfA/file# [following]\n",
      "--2023-01-19 14:30:53--  https://uc4370ce04aa11c599edc715ddc2.dl.dropboxusercontent.com/cd/0/inline/B04JuGlyrWzpZGFo9u9Imjrnu-aTpN9Lz7TT-1q5Vt06pSIKSu6ERJLhv8_k0WW1_GAubBx4-U7WdmYWstOLXWB_0wWat7KLo737hOEqXj5-qTlwJm3lMnEBw1NsFrcjaLbHU-osU_kB9s-2axwjKX0SrFYzzoLTET962OAEYxtMfA/file\n",
      "Resolving uc4370ce04aa11c599edc715ddc2.dl.dropboxusercontent.com (uc4370ce04aa11c599edc715ddc2.dl.dropboxusercontent.com)... 162.125.8.15, 2620:100:601b:15::a27d:80f\n",
      "Connecting to uc4370ce04aa11c599edc715ddc2.dl.dropboxusercontent.com (uc4370ce04aa11c599edc715ddc2.dl.dropboxusercontent.com)|162.125.8.15|:443... connected.\n",
      "HTTP request sent, awaiting response... 302 Found\n",
      "Location: /cd/0/inline2/B07LmzPWgN7YcUgtqFbBJ2wMaMSaDgpEeK2yhw9PKHNFXHAcxojv1uMkYAwaaCRv1l9CfKAzT6lOitKpBxQG9i3JXugg69mN6o3IFGlnTFkiBrTvx7kAnQugkZFJ_T7yqRezyu97DNVJCUTQfKUTHjDq5KTIm1JmTq0Q4Wau5LaGPa2HDhdFYsaEcrJ25lEOtETRBanB09cB9_Xv-Cm9AW4Gpl_W_YKuhSQLKvw1Lkgnm3JxFx1PLDt7QVf9q1CvCDSfkWcD2hfqKhJQYPDpNRsEzayQ2dnwzcZo_ZNBk2Z82QMJrF4hF9S1dloujgazt7erSmfPy0zQosOh4635ZyQ56RNT0z-qFLfBxHPzaTTJix9yIcNcJSRicJ7534F5cNaYOhlnke4DYtyt3oS748bQYTfQ315QghAAV9Wo41z98Q/file [following]\n",
      "--2023-01-19 14:30:54--  https://uc4370ce04aa11c599edc715ddc2.dl.dropboxusercontent.com/cd/0/inline2/B07LmzPWgN7YcUgtqFbBJ2wMaMSaDgpEeK2yhw9PKHNFXHAcxojv1uMkYAwaaCRv1l9CfKAzT6lOitKpBxQG9i3JXugg69mN6o3IFGlnTFkiBrTvx7kAnQugkZFJ_T7yqRezyu97DNVJCUTQfKUTHjDq5KTIm1JmTq0Q4Wau5LaGPa2HDhdFYsaEcrJ25lEOtETRBanB09cB9_Xv-Cm9AW4Gpl_W_YKuhSQLKvw1Lkgnm3JxFx1PLDt7QVf9q1CvCDSfkWcD2hfqKhJQYPDpNRsEzayQ2dnwzcZo_ZNBk2Z82QMJrF4hF9S1dloujgazt7erSmfPy0zQosOh4635ZyQ56RNT0z-qFLfBxHPzaTTJix9yIcNcJSRicJ7534F5cNaYOhlnke4DYtyt3oS748bQYTfQ315QghAAV9Wo41z98Q/file\n",
      "Reusing existing connection to uc4370ce04aa11c599edc715ddc2.dl.dropboxusercontent.com:443.\n",
      "HTTP request sent, awaiting response... 200 OK\n",
      "Length: 491562360 (469M) [application/zip]\n",
      "Saving to: ‘gvc_long.zip?dl=0’\n",
      "\n",
      "gvc_long.zip?dl=0   100%[===================>] 468.79M  80.3MB/s    in 6.0s    \n",
      "\n",
      "2023-01-19 14:31:02 (77.6 MB/s) - ‘gvc_long.zip?dl=0’ saved [491562360/491562360]\n",
      "\n"
     ]
    }
   ],
   "source": [
    "# LH + D long for GVC \n",
    "\n",
    "!wget https://www.dropbox.com/s/rfj2yb4pm9l61mq/gvc_long.zip?dl=0"
   ]
  },
  {
   "cell_type": "code",
   "execution_count": 3,
   "id": "fecbad31",
   "metadata": {},
   "outputs": [
    {
     "name": "stdout",
     "output_type": "stream",
     "text": [
      "Archive:  gvc_long.zip?dl=0\n",
      "   creating: gvc_long/\n",
      "   creating: gvc_long/bert/\n",
      "  inflating: gvc_long/bert/tokenizer.json  \n",
      "  inflating: gvc_long/bert/special_tokens_map.json  \n",
      "  inflating: gvc_long/bert/added_tokens.json  \n",
      "  inflating: gvc_long/bert/merges.txt  \n",
      "  inflating: gvc_long/bert/config.json  \n",
      "  inflating: gvc_long/bert/pytorch_model.bin  \n",
      "  inflating: gvc_long/bert/tokenizer_config.json  \n",
      "  inflating: gvc_long/bert/vocab.json  \n",
      "  inflating: gvc_long/linear.chkpt   \n"
     ]
    }
   ],
   "source": [
    "!unzip gvc_long.zip\\?dl=0"
   ]
  },
  {
   "cell_type": "code",
   "execution_count": 17,
   "id": "6273d083",
   "metadata": {},
   "outputs": [
    {
     "name": "stderr",
     "output_type": "stream",
     "text": [
      "Predicting: 100%|██████████| 147/147 [08:11<00:00,  3.34s/it]\n"
     ]
    },
    {
     "name": "stdout",
     "output_type": "stream",
     "text": [
      "Test accuracy: tensor(0.7590)\n",
      "Test precision: tensor(0.9509)\n",
      "Test recall: tensor(0.1470)\n",
      "Test f1: tensor(0.2546)\n",
      "2633 6768 226\n",
      "gvc test\n",
      "& lh && 84.0  & 91.1 & 87.4 && 79.0 & 76.4 & 77.7 && 69.6 & 52.5 & 59.9 && 74.1 & 63.9 & 68.6 && 75.0 \\\n"
     ]
    }
   ],
   "source": [
    "# LH + D long GVC\n",
    "\n",
    "heu='lh'\n",
    "dpos_path =  './gvc_long/'\n",
    "save_dpos_scores(GVC, TEST, dpos_path, heu=heu, text_key='bert_doc', max_sentence_len=1024, long=True)\n",
    "dpos = get_dpos(GVC, heu, TEST)\n",
    "predict_with_dpos(GVC, TEST, dpos, heu=heu)"
   ]
  },
  {
   "cell_type": "code",
   "execution_count": 20,
   "id": "b1ce7800",
   "metadata": {},
   "outputs": [
    {
     "name": "stderr",
     "output_type": "stream",
     "text": [
      "Predicting: 100%|██████████| 130/130 [07:12<00:00,  3.33s/it]\n"
     ]
    },
    {
     "name": "stdout",
     "output_type": "stream",
     "text": [
      "Test accuracy: tensor(0.7017)\n",
      "Test precision: tensor(0.9512)\n",
      "Test recall: tensor(0.1373)\n",
      "Test f1: tensor(0.2399)\n",
      "2841 5442 128\n",
      "gvc test\n",
      "& lh_oracle && 84.9  & 91.4 & 88.0 && 80.4 & 77.4 & 78.9 && 70.5 & 54.3 & 61.3 && 75.7 & 65.5 & 70.2 && 76.1 \\\n"
     ]
    }
   ],
   "source": [
    "# LH_Oracle + D long GVC\n",
    "\n",
    "heu='lh_oracle'\n",
    "dpos_path =  './gvc_long/'\n",
    "save_dpos_scores(GVC, TEST, dpos_path, heu=heu, text_key='bert_doc', max_sentence_len=1024, long=True)\n",
    "dpos = get_dpos(GVC, heu, TEST)\n",
    "predict_with_dpos(GVC, TEST, dpos, heu=heu)"
   ]
  },
  {
   "cell_type": "markdown",
   "id": "c3548eec",
   "metadata": {},
   "source": [
    "#### GVC"
   ]
  },
  {
   "cell_type": "code",
   "execution_count": 25,
   "id": "a3c4e151",
   "metadata": {},
   "outputs": [
    {
     "name": "stdout",
     "output_type": "stream",
     "text": [
      "--2023-01-19 15:35:30--  https://www.dropbox.com/s/3ytwc9q2sa8j67d/gvc_small.zip?dl=0\n",
      "Resolving www.dropbox.com (www.dropbox.com)... 162.125.8.18, 2620:100:601b:18::a27d:812\n",
      "Connecting to www.dropbox.com (www.dropbox.com)|162.125.8.18|:443... connected.\n",
      "HTTP request sent, awaiting response... 302 Found\n",
      "Location: /s/raw/3ytwc9q2sa8j67d/gvc_small.zip [following]\n",
      "--2023-01-19 15:35:31--  https://www.dropbox.com/s/raw/3ytwc9q2sa8j67d/gvc_small.zip\n",
      "Reusing existing connection to www.dropbox.com:443.\n",
      "HTTP request sent, awaiting response... 302 Found\n",
      "Location: https://uc878d2c81a6fec43f8105cd4fe8.dl.dropboxusercontent.com/cd/0/inline/B05OiEzOPkBZDQJ1B5ux6nHPwdWN7Hr6VqbwGE6gH9XVypUzdKsqk61_1bLjsez4ohi_LlzASD6p1LfmTUdgs4wof5NjEo3xrPVPW5qmewXqg41HWupXpMhDuXjv0i1xLanUFIUgsj6RyV2MRxnA5c6-oFNA-PtM7AVBEo3k9J1yRA/file# [following]\n",
      "--2023-01-19 15:35:31--  https://uc878d2c81a6fec43f8105cd4fe8.dl.dropboxusercontent.com/cd/0/inline/B05OiEzOPkBZDQJ1B5ux6nHPwdWN7Hr6VqbwGE6gH9XVypUzdKsqk61_1bLjsez4ohi_LlzASD6p1LfmTUdgs4wof5NjEo3xrPVPW5qmewXqg41HWupXpMhDuXjv0i1xLanUFIUgsj6RyV2MRxnA5c6-oFNA-PtM7AVBEo3k9J1yRA/file\n",
      "Resolving uc878d2c81a6fec43f8105cd4fe8.dl.dropboxusercontent.com (uc878d2c81a6fec43f8105cd4fe8.dl.dropboxusercontent.com)... 162.125.8.15, 2620:100:601b:15::a27d:80f\n",
      "Connecting to uc878d2c81a6fec43f8105cd4fe8.dl.dropboxusercontent.com (uc878d2c81a6fec43f8105cd4fe8.dl.dropboxusercontent.com)|162.125.8.15|:443... connected.\n",
      "HTTP request sent, awaiting response... 302 Found\n",
      "Location: /cd/0/inline2/B07-IEZgIFpXdbU8qz0q3qwFJQ1e7bIM8tvkREZlpoFC7T7DFSrumREMpRkhTB5lvZr82WB0MibtKwAJgsiEj_h8ihYHwPIDAxamLIXsXzOm3CLdmHwWWKARUrOJvtiCr2b2zCLKplJnJ2YwR8EAJXOwrwzZf3YUyc1wvK_siuo_5DenPzCiNq3ZPlnb_AGspD0wjKj3YUqh6Qw9M8_TOaWuzC5PlTi9gxXbiztv4-VgtUMTOXw5JChqiegcuavLFn4qxnYxvSs9EjblHsD_EDnD2UIOSRKuDk2-zcUDPzA-LbfnBb7uJdTrGicNaJpzx9SaXfNrJpPc3FmRVEsHkqHABcyvXgZlpxgIrzogBBd-oXkW1GIoGhMUksYWCXh2Z9UHtiLlGD5RYVu9XzR0laS-PLhLxCus8IJfRjxErsTrUQ/file [following]\n",
      "--2023-01-19 15:35:31--  https://uc878d2c81a6fec43f8105cd4fe8.dl.dropboxusercontent.com/cd/0/inline2/B07-IEZgIFpXdbU8qz0q3qwFJQ1e7bIM8tvkREZlpoFC7T7DFSrumREMpRkhTB5lvZr82WB0MibtKwAJgsiEj_h8ihYHwPIDAxamLIXsXzOm3CLdmHwWWKARUrOJvtiCr2b2zCLKplJnJ2YwR8EAJXOwrwzZf3YUyc1wvK_siuo_5DenPzCiNq3ZPlnb_AGspD0wjKj3YUqh6Qw9M8_TOaWuzC5PlTi9gxXbiztv4-VgtUMTOXw5JChqiegcuavLFn4qxnYxvSs9EjblHsD_EDnD2UIOSRKuDk2-zcUDPzA-LbfnBb7uJdTrGicNaJpzx9SaXfNrJpPc3FmRVEsHkqHABcyvXgZlpxgIrzogBBd-oXkW1GIoGhMUksYWCXh2Z9UHtiLlGD5RYVu9XzR0laS-PLhLxCus8IJfRjxErsTrUQ/file\n",
      "Reusing existing connection to uc878d2c81a6fec43f8105cd4fe8.dl.dropboxusercontent.com:443.\n",
      "HTTP request sent, awaiting response... 200 OK\n",
      "Length: 431735059 (412M) [application/zip]\n",
      "Saving to: ‘gvc_small.zip?dl=0’\n",
      "\n",
      "gvc_small.zip?dl=0  100%[===================>] 411.73M  79.3MB/s    in 5.4s    \n",
      "\n",
      "2023-01-19 15:35:38 (76.2 MB/s) - ‘gvc_small.zip?dl=0’ saved [431735059/431735059]\n",
      "\n"
     ]
    }
   ],
   "source": [
    "# download gvc d small model\n",
    "\n",
    "!wget https://www.dropbox.com/s/3ytwc9q2sa8j67d/gvc_small.zip?dl=0"
   ]
  },
  {
   "cell_type": "code",
   "execution_count": 26,
   "id": "2c9533ae",
   "metadata": {},
   "outputs": [
    {
     "name": "stdout",
     "output_type": "stream",
     "text": [
      "Archive:  gvc_small.zip?dl=0\n",
      "   creating: gvc_small/\n",
      "   creating: gvc_small/bert/\n",
      "  inflating: gvc_small/bert/config.json  \n",
      "  inflating: gvc_small/bert/pytorch_model.bin  \n",
      "  inflating: gvc_small/bert/tokenizer_config.json  \n",
      "  inflating: gvc_small/bert/special_tokens_map.json  \n",
      "  inflating: gvc_small/bert/added_tokens.json  \n",
      "  inflating: gvc_small/bert/vocab.json  \n",
      "  inflating: gvc_small/bert/merges.txt  \n",
      "  inflating: gvc_small/bert/tokenizer.json  \n",
      "  inflating: gvc_small/linear.chkpt  \n"
     ]
    }
   ],
   "source": [
    "!unzip gvc_small.zip\\?dl\\=0"
   ]
  },
  {
   "cell_type": "code",
   "execution_count": 7,
   "id": "e6622b6a",
   "metadata": {
    "scrolled": true
   },
   "outputs": [
    {
     "name": "stderr",
     "output_type": "stream",
     "text": [
      "Predicting: 100%|██████████| 147/147 [02:27<00:00,  1.01s/it]\n"
     ]
    },
    {
     "name": "stdout",
     "output_type": "stream",
     "text": [
      "Test accuracy: tensor(0.8683)\n",
      "Test precision: tensor(0.8835)\n",
      "Test recall: tensor(0.6103)\n",
      "Test f1: tensor(0.7219)\n",
      "2633 6768 226\n",
      "gvc test\n",
      "& lh && 87.0  & 89.6 & 88.3 && 82.3 & 67.9 & 74.4 && 62.0 & 55.2 & 58.4 && 77.6 & 57.8 & 66.2 && 73.7 \\\n"
     ]
    }
   ],
   "source": [
    "# LH + D small\n",
    "\n",
    "heu='lh'\n",
    "dpos_path =  './gvc_small/'\n",
    "save_dpos_scores(GVC, TEST, dpos_path, heu=heu, text_key='bert_sentence', max_sentence_len=512, long=False)\n",
    "dpos = get_dpos(GVC, heu, TEST)\n",
    "predict_with_dpos(GVC, TEST, dpos, heu=heu)"
   ]
  },
  {
   "cell_type": "code",
   "execution_count": 8,
   "id": "6cf1624d",
   "metadata": {},
   "outputs": [
    {
     "name": "stderr",
     "output_type": "stream",
     "text": [
      "Predicting: 100%|██████████| 130/130 [02:11<00:00,  1.01s/it]\n"
     ]
    },
    {
     "name": "stdout",
     "output_type": "stream",
     "text": [
      "Test accuracy: tensor(0.8290)\n",
      "Test precision: tensor(0.8853)\n",
      "Test recall: tensor(0.5762)\n",
      "Test f1: tensor(0.6981)\n",
      "2841 5442 128\n",
      "gvc test\n",
      "& lh_oracle && 89.1  & 90.2 & 89.6 && 85.0 & 68.0 & 75.6 && 62.7 & 59.6 & 61.1 && 80.6 & 59.5 & 68.5 && 75.4 \\\n"
     ]
    }
   ],
   "source": [
    "# LH_Oracle + D small\n",
    "\n",
    "heu='lh_oracle'\n",
    "dpos_path =  './gvc_small/'\n",
    "save_dpos_scores(GVC, TEST, dpos_path, heu=heu, text_key='bert_sentence', max_sentence_len=512, long=False)\n",
    "dpos = get_dpos(GVC, heu, TEST)\n",
    "predict_with_dpos(GVC, TEST, dpos, heu=heu)"
   ]
  },
  {
   "cell_type": "code",
   "execution_count": null,
   "id": "75206ecd",
   "metadata": {},
   "outputs": [],
   "source": []
  },
  {
   "cell_type": "code",
   "execution_count": null,
   "id": "f865fed0",
   "metadata": {},
   "outputs": [],
   "source": []
  },
  {
   "cell_type": "code",
   "execution_count": null,
   "id": "30de2701",
   "metadata": {},
   "outputs": [],
   "source": []
  }
 ],
 "metadata": {
  "kernelspec": {
   "display_name": "Python 3",
   "language": "python",
   "name": "python3"
  },
  "language_info": {
   "codemirror_mode": {
    "name": "ipython",
    "version": 3
   },
   "file_extension": ".py",
   "mimetype": "text/x-python",
   "name": "python",
   "nbconvert_exporter": "python",
   "pygments_lexer": "ipython3",
   "version": "3.6.8"
  }
 },
 "nbformat": 4,
 "nbformat_minor": 5
}
