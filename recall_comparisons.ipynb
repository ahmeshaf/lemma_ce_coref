{
 "cells": [
  {
   "cell_type": "code",
   "execution_count": 2,
   "id": "e0ba7ef1",
   "metadata": {},
   "outputs": [],
   "source": [
    "import matplotlib as mpl\n",
    "# mpl.use('pgf')\n",
    "from matplotlib import pyplot as plt\n",
    "# pgf_with_latex = {\n",
    "#         'text.usetex': False,\n",
    "#         'pgf.rcfonts': False,\n",
    "#         \"pgf.preamble\": [\n",
    "#                 r\"\\usepackage{siunitx}\"\n",
    "#                 ]\n",
    "# }\n",
    "# mpl.rcParams.update(pgf_with_latex)"
   ]
  },
  {
   "cell_type": "code",
   "execution_count": 3,
   "id": "41fd7c86",
   "metadata": {},
   "outputs": [],
   "source": [
    "from simulation import run_annotation_simulation_lemma, run_annotation_simulation_bert_score"
   ]
  },
  {
   "cell_type": "code",
   "execution_count": 4,
   "id": "6683cab0",
   "metadata": {},
   "outputs": [
    {
     "name": "stdout",
     "output_type": "stream",
     "text": [
      "The autoreload extension is already loaded. To reload it, use:\n",
      "  %reload_ext autoreload\n"
     ]
    }
   ],
   "source": [
    "%load_ext autoreload\n",
    "%autoreload 2"
   ]
  },
  {
   "cell_type": "code",
   "execution_count": 7,
   "id": "fb6a566b",
   "metadata": {},
   "outputs": [],
   "source": [
    "split = 'test'\n",
    "dataset = 'ecb'"
   ]
  },
  {
   "cell_type": "code",
   "execution_count": 8,
   "id": "c5681275",
   "metadata": {},
   "outputs": [
    {
     "name": "stdout",
     "output_type": "stream",
     "text": [
      "Total mention pairs in the Test set: 93878\n"
     ]
    },
    {
     "name": "stderr",
     "output_type": "stream",
     "text": [
      "Generating Similarities: 100%|███████████████████████████████████████████████████████████████████████████████████████████████████████████████████████████████████████████████████████| 93878/93878 [00:00<00:00, 270967.48it/s]\n"
     ]
    }
   ],
   "source": [
    "ecb_results_lemma = run_annotation_simulation_lemma('ecb', split, ns=[i/2 for i in range(2,40)])"
   ]
  },
  {
   "cell_type": "code",
   "execution_count": 9,
   "id": "30e51898",
   "metadata": {},
   "outputs": [
    {
     "name": "stdout",
     "output_type": "stream",
     "text": [
      "Total mention pairs in the Test set: 93878\n",
      "calculating scores...\n",
      "computing bert embedding.\n"
     ]
    },
    {
     "data": {
      "application/vnd.jupyter.widget-view+json": {
       "model_id": "dc4cc889b36346f4ab4650a7f162103d",
       "version_major": 2,
       "version_minor": 0
      },
      "text/plain": [
       "  0%|          | 0/27 [00:00<?, ?it/s]"
      ]
     },
     "metadata": {},
     "output_type": "display_data"
    },
    {
     "name": "stdout",
     "output_type": "stream",
     "text": [
      "computing greedy matching.\n"
     ]
    },
    {
     "data": {
      "application/vnd.jupyter.widget-view+json": {
       "model_id": "46643c68a30f4c7986048d5fbf645d53",
       "version_major": 2,
       "version_minor": 0
      },
      "text/plain": [
       "  0%|          | 0/1467 [00:00<?, ?it/s]"
      ]
     },
     "metadata": {},
     "output_type": "display_data"
    },
    {
     "name": "stdout",
     "output_type": "stream",
     "text": [
      "done in 7235437.04 seconds, 0.01 sentences/sec\n",
      "calculating scores...\n",
      "computing bert embedding.\n"
     ]
    },
    {
     "data": {
      "application/vnd.jupyter.widget-view+json": {
       "model_id": "d65120bcc80b4e17a2aa43313198f91a",
       "version_major": 2,
       "version_minor": 0
      },
      "text/plain": [
       "  0%|          | 0/13 [00:00<?, ?it/s]"
      ]
     },
     "metadata": {},
     "output_type": "display_data"
    },
    {
     "name": "stdout",
     "output_type": "stream",
     "text": [
      "computing greedy matching.\n"
     ]
    },
    {
     "data": {
      "application/vnd.jupyter.widget-view+json": {
       "model_id": "8d7bb0eebe504555a4b65e204fa8b634",
       "version_major": 2,
       "version_minor": 0
      },
      "text/plain": [
       "  0%|          | 0/1467 [00:00<?, ?it/s]"
      ]
     },
     "metadata": {},
     "output_type": "display_data"
    },
    {
     "name": "stdout",
     "output_type": "stream",
     "text": [
      "done in 7235445.39 seconds, 0.01 sentences/sec\n"
     ]
    }
   ],
   "source": [
    "ecb_results_bs =  run_annotation_simulation_bert_score('ecb', split, ns=[i/2 for i in range(2,40)])"
   ]
  },
  {
   "cell_type": "code",
   "execution_count": 10,
   "id": "54b11a5d",
   "metadata": {},
   "outputs": [
    {
     "name": "stdout",
     "output_type": "stream",
     "text": [
      "Total mention pairs in the Test set: 18961\n"
     ]
    },
    {
     "name": "stderr",
     "output_type": "stream",
     "text": [
      "Generating Similarities: 100%|███████████████████████████████████████████████████████████████████████████████████████████████████████████████████████████████████████████████████████| 18961/18961 [00:00<00:00, 230473.09it/s]\n"
     ]
    },
    {
     "name": "stdout",
     "output_type": "stream",
     "text": [
      "Total mention pairs in the Test set: 18961\n",
      "calculating scores...\n",
      "computing bert embedding.\n"
     ]
    },
    {
     "data": {
      "application/vnd.jupyter.widget-view+json": {
       "model_id": "82b70a5b75224455a0ad94c6cd9547c7",
       "version_major": 2,
       "version_minor": 0
      },
      "text/plain": [
       "  0%|          | 0/15 [00:00<?, ?it/s]"
      ]
     },
     "metadata": {},
     "output_type": "display_data"
    },
    {
     "name": "stdout",
     "output_type": "stream",
     "text": [
      "computing greedy matching.\n"
     ]
    },
    {
     "data": {
      "application/vnd.jupyter.widget-view+json": {
       "model_id": "5c0ad1a9b09b49c1bf126adc4e24b5a1",
       "version_major": 2,
       "version_minor": 0
      },
      "text/plain": [
       "  0%|          | 0/297 [00:00<?, ?it/s]"
      ]
     },
     "metadata": {},
     "output_type": "display_data"
    },
    {
     "name": "stdout",
     "output_type": "stream",
     "text": [
      "done in 7310389.95 seconds, 0.00 sentences/sec\n",
      "calculating scores...\n",
      "computing bert embedding.\n"
     ]
    },
    {
     "data": {
      "application/vnd.jupyter.widget-view+json": {
       "model_id": "909dd88e57044427862b225cf33585df",
       "version_major": 2,
       "version_minor": 0
      },
      "text/plain": [
       "  0%|          | 0/3 [00:00<?, ?it/s]"
      ]
     },
     "metadata": {},
     "output_type": "display_data"
    },
    {
     "name": "stdout",
     "output_type": "stream",
     "text": [
      "computing greedy matching.\n"
     ]
    },
    {
     "data": {
      "application/vnd.jupyter.widget-view+json": {
       "model_id": "698c3d321081499cad1000f25a143e46",
       "version_major": 2,
       "version_minor": 0
      },
      "text/plain": [
       "  0%|          | 0/297 [00:00<?, ?it/s]"
      ]
     },
     "metadata": {},
     "output_type": "display_data"
    },
    {
     "name": "stdout",
     "output_type": "stream",
     "text": [
      "done in 7310391.31 seconds, 0.00 sentences/sec\n"
     ]
    }
   ],
   "source": [
    "gvc_results_lemma = run_annotation_simulation_lemma('gvc', split)\n",
    "gvc_results_bs = run_annotation_simulation_bert_score('gvc', split)"
   ]
  },
  {
   "cell_type": "code",
   "execution_count": 11,
   "id": "9859e3ca",
   "metadata": {},
   "outputs": [],
   "source": [
    "_, ecb_comparisons_lemma, ecb_recall_lemma, _ = zip(*ecb_results_lemma)\n",
    "_, ecb_comparisons_bs, ecb_recall_bs, _ = zip(*ecb_results_bs)\n",
    "_, gvc_comparisons_lemma, gvc_recall_lemma, _ = zip(*gvc_results_lemma)\n",
    "_, gvc_comparisons_bs, gvc_recall_bs, _ = zip(*gvc_results_bs)"
   ]
  },
  {
   "cell_type": "code",
   "execution_count": 12,
   "id": "9d1043ff",
   "metadata": {},
   "outputs": [],
   "source": [
    "def set_size(width, fraction=1, subplots=(1, 1)):\n",
    "    \"\"\"Set figure dimensions to avoid scaling in LaTeX.\n",
    "\n",
    "    Parameters\n",
    "    ----------\n",
    "    width: float or string\n",
    "            Document width in points, or string of predined document type\n",
    "    fraction: float, optional\n",
    "            Fraction of the width which you wish the figure to occupy\n",
    "    subplots: array-like, optional\n",
    "            The number of rows and columns of subplots.\n",
    "    Returns\n",
    "    -------\n",
    "    fig_dim: tuple\n",
    "            Dimensions of figure in inches\n",
    "    \"\"\"\n",
    "    if width == 'thesis':\n",
    "        width_pt = 426.79135\n",
    "    elif width == 'beamer':\n",
    "        width_pt = 307.28987\n",
    "    else:\n",
    "        width_pt = width\n",
    "\n",
    "    # Width of figure (in pts)\n",
    "    fig_width_pt = width_pt * fraction\n",
    "    # Convert from pt to inches\n",
    "    inches_per_pt = 1 / 72.27\n",
    "\n",
    "    # Golden ratio to set aesthetic figure height\n",
    "    # https://disq.us/p/2940ij3\n",
    "    golden_ratio = (5**.5 - 1) / 2\n",
    "\n",
    "    # Figure width in inches\n",
    "    fig_width_in = fig_width_pt * inches_per_pt\n",
    "    # Figure height in inches\n",
    "    fig_height_in = fig_width_in * golden_ratio * (subplots[0] / subplots[1])\n",
    "#     print(fig_height_in)\n",
    "    return (fig_width_in, fig_height_in+0.7)"
   ]
  },
  {
   "cell_type": "code",
   "execution_count": 13,
   "id": "1c2da3dd",
   "metadata": {},
   "outputs": [
    {
     "data": {
      "text/plain": [
       "3.1496064065310643"
      ]
     },
     "execution_count": 13,
     "metadata": {},
     "output_type": "execute_result"
    }
   ],
   "source": [
    "(455.24411/72.27 )/2"
   ]
  },
  {
   "cell_type": "code",
   "execution_count": 14,
   "id": "63a4e0ee",
   "metadata": {},
   "outputs": [],
   "source": [
    "width = 455.24411"
   ]
  },
  {
   "cell_type": "code",
   "execution_count": 20,
   "id": "d3b0ea42",
   "metadata": {},
   "outputs": [
    {
     "name": "stderr",
     "output_type": "stream",
     "text": [
      "Ignoring unknown font: Times New Roman\n",
      "Ignoring unknown font: Times New Roman\n",
      "Ignoring unknown font: Times New Roman\n",
      "Ignoring unknown font: Times New Roman\n",
      "Ignoring unknown font: Times New Roman\n",
      "Ignoring unknown font: Times New Roman\n",
      "Ignoring unknown font: Times New Roman\n",
      "Ignoring unknown font: Times New Roman\n",
      "Ignoring unknown font: Times New Roman\n",
      "Ignoring unknown font: Times New Roman\n",
      "Ignoring unknown font: Times New Roman\n",
      "Ignoring unknown font: Times New Roman\n",
      "Ignoring unknown font: Times New Roman\n",
      "Ignoring unknown font: Times New Roman\n",
      "Ignoring unknown font: Times New Roman\n",
      "Ignoring unknown font: Times New Roman\n",
      "Ignoring unknown font: Times New Roman\n",
      "Ignoring unknown font: Times New Roman\n",
      "Ignoring unknown font: Times New Roman\n",
      "Ignoring unknown font: Times New Roman\n",
      "Ignoring unknown font: Times New Roman\n",
      "Ignoring unknown font: Times New Roman\n",
      "Ignoring unknown font: Times New Roman\n",
      "Ignoring unknown font: Times New Roman\n",
      "Ignoring unknown font: Courier New\n",
      "Ignoring unknown font: Courier New\n",
      "Ignoring unknown font: Times New Roman\n",
      "Ignoring unknown font: Times New Roman\n",
      "Ignoring unknown font: Times New Roman\n",
      "Ignoring unknown font: Times New Roman\n",
      "Ignoring unknown font: Times New Roman\n",
      "Ignoring unknown font: Times New Roman\n",
      "Ignoring unknown font: Times New Roman\n",
      "Ignoring unknown font: Times New Roman\n",
      "Ignoring unknown font: Times New Roman\n",
      "Ignoring unknown font: Times New Roman\n",
      "Ignoring unknown font: Times New Roman\n",
      "Ignoring unknown font: Times New Roman\n",
      "Ignoring unknown font: Times New Roman\n",
      "Ignoring unknown font: Times New Roman\n",
      "Ignoring unknown font: Times New Roman\n",
      "Ignoring unknown font: Times New Roman\n",
      "Ignoring unknown font: Times New Roman\n",
      "Ignoring unknown font: Times New Roman\n",
      "Ignoring unknown font: Times New Roman\n",
      "Ignoring unknown font: Times New Roman\n",
      "Ignoring unknown font: Times New Roman\n",
      "Ignoring unknown font: Times New Roman\n",
      "Ignoring unknown font: Times New Roman\n",
      "Ignoring unknown font: Times New Roman\n",
      "Ignoring unknown font: Times New Roman\n",
      "Ignoring unknown font: Times New Roman\n",
      "Ignoring unknown font: Times New Roman\n",
      "Ignoring unknown font: Times New Roman\n",
      "Ignoring unknown font: Times New Roman\n",
      "Ignoring unknown font: Times New Roman\n",
      "Ignoring unknown font: Times New Roman\n",
      "Ignoring unknown font: Times New Roman\n",
      "Ignoring unknown font: Times New Roman\n",
      "Ignoring unknown font: Times New Roman\n",
      "Ignoring unknown font: Times New Roman\n",
      "Ignoring unknown font: Times New Roman\n",
      "Ignoring unknown font: Times New Roman\n",
      "Ignoring unknown font: Times New Roman\n",
      "Ignoring unknown font: Times New Roman\n",
      "Ignoring unknown font: Times New Roman\n",
      "Ignoring unknown font: Times New Roman\n",
      "Ignoring unknown font: Times New Roman\n",
      "Ignoring unknown font: Times New Roman\n",
      "Ignoring unknown font: Times New Roman\n",
      "Ignoring unknown font: Courier New\n",
      "Ignoring unknown font: Courier New\n",
      "Ignoring unknown font: Times New Roman\n",
      "Ignoring unknown font: Times New Roman\n",
      "Ignoring unknown font: Times New Roman\n",
      "Ignoring unknown font: Times New Roman\n",
      "Ignoring unknown font: Times New Roman\n",
      "Ignoring unknown font: Times New Roman\n",
      "Ignoring unknown font: Times New Roman\n",
      "Ignoring unknown font: Times New Roman\n",
      "Ignoring unknown font: Times New Roman\n",
      "Ignoring unknown font: Times New Roman\n",
      "Ignoring unknown font: Times New Roman\n",
      "Ignoring unknown font: Times New Roman\n",
      "Ignoring unknown font: Times New Roman\n",
      "Ignoring unknown font: Times New Roman\n",
      "Ignoring unknown font: Times New Roman\n",
      "Ignoring unknown font: Times New Roman\n",
      "Ignoring unknown font: Times New Roman\n",
      "Ignoring unknown font: Times New Roman\n",
      "Ignoring unknown font: Times New Roman\n",
      "Ignoring unknown font: Times New Roman\n",
      "Ignoring unknown font: Times New Roman\n",
      "Ignoring unknown font: Times New Roman\n",
      "Ignoring unknown font: Times New Roman\n",
      "Ignoring unknown font: Times New Roman\n",
      "Ignoring unknown font: Times New Roman\n",
      "Ignoring unknown font: Times New Roman\n",
      "Ignoring unknown font: Times New Roman\n",
      "Ignoring unknown font: Times New Roman\n",
      "Ignoring unknown font: Times New Roman\n",
      "Ignoring unknown font: Times New Roman\n",
      "Ignoring unknown font: Times New Roman\n",
      "Ignoring unknown font: Times New Roman\n",
      "Ignoring unknown font: Times New Roman\n",
      "Ignoring unknown font: Times New Roman\n",
      "Ignoring unknown font: Times New Roman\n",
      "Ignoring unknown font: Times New Roman\n",
      "Ignoring unknown font: Times New Roman\n",
      "Ignoring unknown font: Times New Roman\n",
      "Ignoring unknown font: Times New Roman\n",
      "Ignoring unknown font: Times New Roman\n",
      "Ignoring unknown font: Times New Roman\n",
      "Ignoring unknown font: Times New Roman\n",
      "Ignoring unknown font: Times New Roman\n",
      "Ignoring unknown font: Times New Roman\n",
      "Ignoring unknown font: Times New Roman\n",
      "Ignoring unknown font: Times New Roman\n",
      "Ignoring unknown font: Times New Roman\n",
      "Ignoring unknown font: Times New Roman\n",
      "Ignoring unknown font: Times New Roman\n",
      "Ignoring unknown font: Times New Roman\n",
      "Ignoring unknown font: Times New Roman\n",
      "Ignoring unknown font: Times New Roman\n",
      "Ignoring unknown font: Times New Roman\n",
      "Ignoring unknown font: Times New Roman\n",
      "Ignoring unknown font: Times New Roman\n",
      "Ignoring unknown font: Times New Roman\n",
      "Ignoring unknown font: Times New Roman\n",
      "Ignoring unknown font: Times New Roman\n",
      "Ignoring unknown font: Times New Roman\n",
      "Ignoring unknown font: Times New Roman\n",
      "Ignoring unknown font: Times New Roman\n",
      "Ignoring unknown font: Times New Roman\n",
      "Ignoring unknown font: Times New Roman\n",
      "Ignoring unknown font: Times New Roman\n",
      "Ignoring unknown font: Times New Roman\n",
      "Ignoring unknown font: Times New Roman\n",
      "Ignoring unknown font: Times New Roman\n",
      "Ignoring unknown font: Times New Roman\n",
      "Ignoring unknown font: Times New Roman\n",
      "Ignoring unknown font: Times New Roman\n",
      "Ignoring unknown font: Times New Roman\n",
      "Ignoring unknown font: Times New Roman\n",
      "Ignoring unknown font: Times New Roman\n",
      "Ignoring unknown font: Times New Roman\n",
      "Ignoring unknown font: Times New Roman\n",
      "Ignoring unknown font: Times New Roman\n",
      "Ignoring unknown font: Times New Roman\n",
      "Ignoring unknown font: Times New Roman\n",
      "Ignoring unknown font: Times New Roman\n",
      "Ignoring unknown font: Times New Roman\n",
      "Ignoring unknown font: Courier New\n",
      "Ignoring unknown font: Courier New\n",
      "Ignoring unknown font: Times New Roman\n",
      "Ignoring unknown font: Times New Roman\n",
      "Ignoring unknown font: Times New Roman\n",
      "Ignoring unknown font: Times New Roman\n",
      "Ignoring unknown font: Times New Roman\n",
      "Ignoring unknown font: Times New Roman\n",
      "Ignoring unknown font: Times New Roman\n",
      "Ignoring unknown font: Times New Roman\n",
      "Ignoring unknown font: Times New Roman\n",
      "Ignoring unknown font: Times New Roman\n",
      "Ignoring unknown font: Times New Roman\n",
      "Ignoring unknown font: Times New Roman\n",
      "Ignoring unknown font: Times New Roman\n",
      "Ignoring unknown font: Times New Roman\n",
      "Ignoring unknown font: Times New Roman\n",
      "Ignoring unknown font: Times New Roman\n",
      "Ignoring unknown font: Times New Roman\n",
      "Ignoring unknown font: Times New Roman\n",
      "Ignoring unknown font: Times New Roman\n",
      "Ignoring unknown font: Times New Roman\n",
      "Ignoring unknown font: Times New Roman\n",
      "Ignoring unknown font: Times New Roman\n",
      "Ignoring unknown font: Times New Roman\n",
      "Ignoring unknown font: Times New Roman\n",
      "Ignoring unknown font: Times New Roman\n",
      "Ignoring unknown font: Times New Roman\n",
      "Ignoring unknown font: Times New Roman\n",
      "Ignoring unknown font: Times New Roman\n",
      "Ignoring unknown font: Times New Roman\n",
      "Ignoring unknown font: Times New Roman\n",
      "Ignoring unknown font: Times New Roman\n",
      "Ignoring unknown font: Times New Roman\n",
      "Ignoring unknown font: Times New Roman\n",
      "Ignoring unknown font: Times New Roman\n",
      "Ignoring unknown font: Times New Roman\n",
      "Ignoring unknown font: Times New Roman\n",
      "Ignoring unknown font: Courier New\n",
      "Ignoring unknown font: Times New Roman\n",
      "Ignoring unknown font: Times New Roman\n",
      "Ignoring unknown font: Times New Roman\n",
      "Ignoring unknown font: Times New Roman\n",
      "Ignoring unknown font: Times New Roman\n",
      "Ignoring unknown font: Times New Roman\n",
      "Ignoring unknown font: Times New Roman\n",
      "Ignoring unknown font: Times New Roman\n",
      "Ignoring unknown font: Times New Roman\n",
      "Ignoring unknown font: Times New Roman\n",
      "Ignoring unknown font: Times New Roman\n",
      "Ignoring unknown font: Times New Roman\n",
      "Ignoring unknown font: Times New Roman\n",
      "Ignoring unknown font: Times New Roman\n",
      "Ignoring unknown font: Times New Roman\n",
      "Ignoring unknown font: Times New Roman\n",
      "Ignoring unknown font: Times New Roman\n",
      "Ignoring unknown font: Times New Roman\n",
      "Ignoring unknown font: Times New Roman\n",
      "Ignoring unknown font: Times New Roman\n"
     ]
    },
    {
     "name": "stderr",
     "output_type": "stream",
     "text": [
      "Ignoring unknown font: Times New Roman\n",
      "Ignoring unknown font: Times New Roman\n",
      "Ignoring unknown font: Times New Roman\n",
      "Ignoring unknown font: Times New Roman\n",
      "Ignoring unknown font: Times New Roman\n",
      "Ignoring unknown font: Times New Roman\n",
      "Ignoring unknown font: Times New Roman\n",
      "Ignoring unknown font: Times New Roman\n",
      "Ignoring unknown font: Times New Roman\n",
      "Ignoring unknown font: Times New Roman\n",
      "Ignoring unknown font: Times New Roman\n",
      "Ignoring unknown font: Times New Roman\n",
      "Ignoring unknown font: Times New Roman\n",
      "Ignoring unknown font: Times New Roman\n",
      "Ignoring unknown font: Times New Roman\n",
      "Ignoring unknown font: Times New Roman\n",
      "Ignoring unknown font: Times New Roman\n",
      "Ignoring unknown font: Times New Roman\n",
      "Ignoring unknown font: Times New Roman\n",
      "Ignoring unknown font: Times New Roman\n",
      "Ignoring unknown font: Times New Roman\n",
      "Ignoring unknown font: Times New Roman\n",
      "Ignoring unknown font: Times New Roman\n",
      "Ignoring unknown font: Times New Roman\n",
      "Ignoring unknown font: Times New Roman\n",
      "Ignoring unknown font: Times New Roman\n",
      "Ignoring unknown font: Times New Roman\n",
      "Ignoring unknown font: Times New Roman\n",
      "Ignoring unknown font: Times New Roman\n",
      "Ignoring unknown font: Times New Roman\n",
      "Ignoring unknown font: Times New Roman\n",
      "Ignoring unknown font: Times New Roman\n",
      "Ignoring unknown font: Times New Roman\n",
      "Ignoring unknown font: Times New Roman\n",
      "Ignoring unknown font: Times New Roman\n",
      "Ignoring unknown font: Times New Roman\n",
      "Ignoring unknown font: Times New Roman\n",
      "Ignoring unknown font: Times New Roman\n",
      "Ignoring unknown font: Times New Roman\n",
      "Ignoring unknown font: Times New Roman\n",
      "Ignoring unknown font: Times New Roman\n",
      "Ignoring unknown font: Times New Roman\n",
      "Ignoring unknown font: Times New Roman\n",
      "Ignoring unknown font: Times New Roman\n",
      "Ignoring unknown font: Times New Roman\n",
      "Ignoring unknown font: Times New Roman\n",
      "Ignoring unknown font: Times New Roman\n"
     ]
    },
    {
     "data": {
      "image/png": "[encoded data removed]",
      "text/plain": [
       "<Figure size 629.921x264.656 with 2 Axes>"
      ]
     },
     "metadata": {},
     "output_type": "display_data"
    }
   ],
   "source": [
    "# plt.ioff()\n",
    "plt.rcParams[\"pgf.texsystem\"] = \"pdflatex\"\n",
    "# plt.rcParams['figure.figsize'] = [12, 5.5]\n",
    "plt.rcParams['text.usetex'] = True\n",
    "plt.rcParams['font.size'] = 9\n",
    "plt.rcParams[\"font.family\"] = \"Times New Roman\"\n",
    "fig, axes = plt.subplots(1,2, figsize=set_size(width, fraction=1, subplots=(1,2)), constrained_layout=True)\n",
    "# fig.subplots_adjust(wspace=0.2)\n",
    "# ax.plot(comparisons_cdlm_t[3:-7], recalls_cdlm_t[3:-7], '-.o', markersize=3, label='CDLM-T')\n",
    "# ax.plot(comparisons_cdlm_nt[3:-7], recalls_cdlm_nt[3:-7], '-.o', markersize=3, label='CDLM')\n",
    "\n",
    "courier= {'fontname':'Courier New'}\n",
    "# courier= {'fontname':'Courier'}\n",
    "csfont = {'fontname':'Times New Roman'}\n",
    "\n",
    "\n",
    "def plot_ecb(ax):\n",
    "    ax.set_title('ECB+')\n",
    "    ax.plot(ecb_comparisons_bs, ecb_recall_bs, '-o', markersize=1.5, label=r'/bert')\n",
    "    ax.plot(ecb_comparisons_lemma, ecb_recall_lemma, '-o', markersize=1.5, label=r'/baseline~1')\n",
    "    ax.set_yticks([(80+i)/100 for i in range(21)])\n",
    "    ax.set_yticklabels([str((80+i)/100) if i%2==0 else None for i in range(21)])\n",
    "    ax.set_ylabel(r'$/mucr$', **courier)\n",
    "    ax.set_ylim(0.80, 1.005)\n",
    "    \n",
    "    ax.set_xscale('log')\n",
    "    ax.set_xticks([i*1000 for i in range(2,12)])\n",
    "    ax.set_xlim(1500, 12000)\n",
    "    ax.set_xticklabels([str(i) for i in range(2,12)])\n",
    "    ax.set_xlabel(r'$/comps~\\times~10^3~(~\\log~)$')\n",
    "    \n",
    "    ax.grid(alpha=0.5)\n",
    "    ax.legend()\n",
    "    \n",
    "\n",
    "def plot_gvc(ax):\n",
    "    ax.set_title('GVC')\n",
    "    ax.plot(gvc_comparisons_bs, gvc_recall_bs, '-o', markersize=1.5, label=r'/bert')\n",
    "    ax.plot(gvc_comparisons_lemma, gvc_recall_lemma, '-o', markersize=1.5, label=r'/baseline~1')\n",
    "    \n",
    "    \n",
    "    ax.set_xlabel(r'/comps')\n",
    "    ax.set_xlim(700, 2200)\n",
    "    \n",
    "    ax.set_ylabel(r'/mucr')\n",
    "    ax.set_ylim(0.80, 1.005)\n",
    "    ax.set_yticks([(80+i)/100 for i in range(21)])\n",
    "    ax.set_yticklabels([str((80+i)) if i%2==0 else None for i in range(21)])\n",
    "    \n",
    "    ax.grid(alpha=0.5)\n",
    "    ax.legend()\n",
    "    \n",
    "plot_ecb(axes[0])\n",
    "plot_gvc(axes[1])\n",
    "plt.savefig('results.pgf', bbox_inches='tight', )\n",
    "# plt.grid()\n",
    "# plt.legend(prop={'family':'Courier New'})\n",
    "# plt.subplot_tool()\n",
    "plt.show()"
   ]
  },
  {
   "cell_type": "code",
   "execution_count": null,
   "id": "316e29ce",
   "metadata": {},
   "outputs": [],
   "source": []
  }
 ],
 "metadata": {
  "kernelspec": {
   "display_name": "Python 3 (ipykernel)",
   "language": "python",
   "name": "python3"
  },
  "language_info": {
   "codemirror_mode": {
    "name": "ipython",
    "version": 3
   },
   "file_extension": ".py",
   "mimetype": "text/x-python",
   "name": "python",
   "nbconvert_exporter": "python",
   "pygments_lexer": "ipython3",
   "version": "3.9.13"
  }
 },
 "nbformat": 4,
 "nbformat_minor": 5
}
